{
 "cells": [
  {
   "cell_type": "code",
   "execution_count": 4,
   "metadata": {},
   "outputs": [
    {
     "name": "stdout",
     "output_type": "stream",
     "text": [
      "Requirement already satisfied: pandas in c:\\python311\\lib\\site-packages (2.2.1)\n",
      "Requirement already satisfied: numpy<2,>=1.23.2 in c:\\python311\\lib\\site-packages (from pandas) (1.26.4)\n",
      "Requirement already satisfied: python-dateutil>=2.8.2 in c:\\python311\\lib\\site-packages (from pandas) (2.8.2)\n",
      "Requirement already satisfied: pytz>=2020.1 in c:\\python311\\lib\\site-packages (from pandas) (2024.1)\n",
      "Requirement already satisfied: tzdata>=2022.7 in c:\\python311\\lib\\site-packages (from pandas) (2024.1)\n",
      "Requirement already satisfied: six>=1.5 in c:\\python311\\lib\\site-packages (from python-dateutil>=2.8.2->pandas) (1.16.0)\n",
      "Note: you may need to restart the kernel to use updated packages.\n"
     ]
    },
    {
     "name": "stderr",
     "output_type": "stream",
     "text": [
      "\n",
      "[notice] A new release of pip is available: 23.1.2 -> 24.0\n",
      "[notice] To update, run: python.exe -m pip install --upgrade pip\n"
     ]
    }
   ],
   "source": [
    "pip install pandas"
   ]
  },
  {
   "cell_type": "code",
   "execution_count": 5,
   "metadata": {},
   "outputs": [],
   "source": [
    "import pandas as pd "
   ]
  },
  {
   "cell_type": "code",
   "execution_count": 6,
   "metadata": {},
   "outputs": [
    {
     "data": {
      "text/plain": [
       "{'joao': 85, 'maria': 90, 'pedro': 88}"
      ]
     },
     "execution_count": 6,
     "metadata": {},
     "output_type": "execute_result"
    }
   ],
   "source": [
    "notas = {'joao':85, 'maria':90, 'pedro':88}\n",
    "notas"
   ]
  },
  {
   "cell_type": "code",
   "execution_count": 7,
   "metadata": {},
   "outputs": [
    {
     "name": "stdout",
     "output_type": "stream",
     "text": [
      "90\n"
     ]
    }
   ],
   "source": [
    "print(notas['maria'])"
   ]
  },
  {
   "cell_type": "code",
   "execution_count": 8,
   "metadata": {},
   "outputs": [
    {
     "data": {
      "text/plain": [
       "{'joao': {'matematica': 90, 'portugues': 85, 'ciencias': 88},\n",
       " 'maria': {'matematica': 95, 'portugues': 92, 'ciencias': 89},\n",
       " 'pedro': {'matematica': 80, 'portugues': 75, 'ciencias': 82}}"
      ]
     },
     "execution_count": 8,
     "metadata": {},
     "output_type": "execute_result"
    }
   ],
   "source": [
    "notas_aluno = {\n",
    "    'joao': {'matematica': 90, 'portugues': 85, 'ciencias': 88},\n",
    "    'maria': {'matematica': 95, 'portugues': 92, 'ciencias': 89},\n",
    "    'pedro':{'matematica': 80, 'portugues': 75, 'ciencias': 82}\n",
    "}\n",
    "notas_aluno"
   ]
  },
  {
   "cell_type": "code",
   "execution_count": 10,
   "metadata": {},
   "outputs": [
    {
     "name": "stdout",
     "output_type": "stream",
     "text": [
      "a nota de maria é: {'matematica': 95, 'portugues': 92, 'ciencias': 89}\n"
     ]
    }
   ],
   "source": [
    "nota_maria = notas_aluno['maria']\n",
    "print('a nota de maria é:', nota_maria)"
   ]
  },
  {
   "cell_type": "code",
   "execution_count": 11,
   "metadata": {},
   "outputs": [
    {
     "name": "stdout",
     "output_type": "stream",
     "text": [
      "a nota de maria de matematica é: 95\n"
     ]
    }
   ],
   "source": [
    "nota_maria_matematica = notas_aluno['maria']['matematica']\n",
    "print('a nota de maria de matematica é:', nota_maria_matematica)"
   ]
  },
  {
   "cell_type": "code",
   "execution_count": 12,
   "metadata": {},
   "outputs": [
    {
     "data": {
      "text/plain": [
       "{'joao': {'matematica': 90, 'portugues': 85, 'ciencias': 88},\n",
       " 'maria': {'matematica': 95, 'portugues': 92, 'ciencias': 89},\n",
       " 'pedro': {'matematica': 80, 'portugues': 75, 'ciencias': 82},\n",
       " 'ana': {'matematica': 88, 'portugues': 91, 'ciencias': 85}}"
      ]
     },
     "execution_count": 12,
     "metadata": {},
     "output_type": "execute_result"
    }
   ],
   "source": [
    "# add pesso na lista ja feita\n",
    "notas_aluno['ana'] = {'matematica': 88, 'portugues':91, 'ciencias':85}\n",
    "notas_aluno"
   ]
  },
  {
   "cell_type": "code",
   "execution_count": 13,
   "metadata": {},
   "outputs": [
    {
     "name": "stdout",
     "output_type": "stream",
     "text": [
      "            joao  maria  pedro  ana\n",
      "matematica    90     95     80   88\n",
      "portugues     85     92     75   91\n",
      "ciencias      88     89     82   85\n"
     ]
    }
   ],
   "source": [
    "df = pd.DataFrame(notas_aluno)\n",
    "print(df)"
   ]
  },
  {
   "cell_type": "code",
   "execution_count": 14,
   "metadata": {},
   "outputs": [
    {
     "data": {
      "text/html": [
       "<div>\n",
       "<style scoped>\n",
       "    .dataframe tbody tr th:only-of-type {\n",
       "        vertical-align: middle;\n",
       "    }\n",
       "\n",
       "    .dataframe tbody tr th {\n",
       "        vertical-align: top;\n",
       "    }\n",
       "\n",
       "    .dataframe thead th {\n",
       "        text-align: right;\n",
       "    }\n",
       "</style>\n",
       "<table border=\"1\" class=\"dataframe\">\n",
       "  <thead>\n",
       "    <tr style=\"text-align: right;\">\n",
       "      <th></th>\n",
       "      <th>joao</th>\n",
       "      <th>maria</th>\n",
       "    </tr>\n",
       "  </thead>\n",
       "  <tbody>\n",
       "    <tr>\n",
       "      <th>matematica</th>\n",
       "      <td>90</td>\n",
       "      <td>95</td>\n",
       "    </tr>\n",
       "    <tr>\n",
       "      <th>portugues</th>\n",
       "      <td>85</td>\n",
       "      <td>92</td>\n",
       "    </tr>\n",
       "    <tr>\n",
       "      <th>ciencias</th>\n",
       "      <td>88</td>\n",
       "      <td>89</td>\n",
       "    </tr>\n",
       "  </tbody>\n",
       "</table>\n",
       "</div>"
      ],
      "text/plain": [
       "            joao  maria\n",
       "matematica    90     95\n",
       "portugues     85     92\n",
       "ciencias      88     89"
      ]
     },
     "execution_count": 14,
     "metadata": {},
     "output_type": "execute_result"
    }
   ],
   "source": [
    "dados_dois_alunos = df.loc[:, ['joao', 'maria']]\n",
    "dados_dois_alunos"
   ]
  },
  {
   "cell_type": "code",
   "execution_count": 15,
   "metadata": {},
   "outputs": [
    {
     "data": {
      "text/plain": [
       "matematica    90\n",
       "portugues     85\n",
       "ciencias      88\n",
       "Name: joao, dtype: int64"
      ]
     },
     "execution_count": 15,
     "metadata": {},
     "output_type": "execute_result"
    }
   ],
   "source": [
    "df['joao']"
   ]
  },
  {
   "cell_type": "code",
   "execution_count": 16,
   "metadata": {},
   "outputs": [
    {
     "data": {
      "text/plain": [
       "90"
      ]
     },
     "execution_count": 16,
     "metadata": {},
     "output_type": "execute_result"
    }
   ],
   "source": [
    "df['joao']['matematica']"
   ]
  },
  {
   "cell_type": "code",
   "execution_count": 17,
   "metadata": {},
   "outputs": [],
   "source": [
    "datas = ['01-01-2024', '01-02-2024', '01-03-2024']\n"
   ]
  },
  {
   "cell_type": "code",
   "execution_count": 18,
   "metadata": {},
   "outputs": [
    {
     "data": {
      "text/html": [
       "<div>\n",
       "<style scoped>\n",
       "    .dataframe tbody tr th:only-of-type {\n",
       "        vertical-align: middle;\n",
       "    }\n",
       "\n",
       "    .dataframe tbody tr th {\n",
       "        vertical-align: top;\n",
       "    }\n",
       "\n",
       "    .dataframe thead th {\n",
       "        text-align: right;\n",
       "    }\n",
       "</style>\n",
       "<table border=\"1\" class=\"dataframe\">\n",
       "  <thead>\n",
       "    <tr style=\"text-align: right;\">\n",
       "      <th></th>\n",
       "      <th>joao</th>\n",
       "      <th>maria</th>\n",
       "      <th>pedro</th>\n",
       "      <th>ana</th>\n",
       "      <th>data</th>\n",
       "    </tr>\n",
       "  </thead>\n",
       "  <tbody>\n",
       "    <tr>\n",
       "      <th>matematica</th>\n",
       "      <td>90</td>\n",
       "      <td>95</td>\n",
       "      <td>80</td>\n",
       "      <td>88</td>\n",
       "      <td>2024-01-01</td>\n",
       "    </tr>\n",
       "    <tr>\n",
       "      <th>portugues</th>\n",
       "      <td>85</td>\n",
       "      <td>92</td>\n",
       "      <td>75</td>\n",
       "      <td>91</td>\n",
       "      <td>2024-02-01</td>\n",
       "    </tr>\n",
       "    <tr>\n",
       "      <th>ciencias</th>\n",
       "      <td>88</td>\n",
       "      <td>89</td>\n",
       "      <td>82</td>\n",
       "      <td>85</td>\n",
       "      <td>2024-03-01</td>\n",
       "    </tr>\n",
       "  </tbody>\n",
       "</table>\n",
       "</div>"
      ],
      "text/plain": [
       "            joao  maria  pedro  ana       data\n",
       "matematica    90     95     80   88 2024-01-01\n",
       "portugues     85     92     75   91 2024-02-01\n",
       "ciencias      88     89     82   85 2024-03-01"
      ]
     },
     "execution_count": 18,
     "metadata": {},
     "output_type": "execute_result"
    }
   ],
   "source": [
    "datas_formatadas = pd.to_datetime(datas, format='%d-%m-%Y')\n",
    "df['data'] = datas_formatadas\n",
    "\n",
    "df"
   ]
  },
  {
   "cell_type": "code",
   "execution_count": 19,
   "metadata": {},
   "outputs": [
    {
     "data": {
      "text/html": [
       "<div>\n",
       "<style scoped>\n",
       "    .dataframe tbody tr th:only-of-type {\n",
       "        vertical-align: middle;\n",
       "    }\n",
       "\n",
       "    .dataframe tbody tr th {\n",
       "        vertical-align: top;\n",
       "    }\n",
       "\n",
       "    .dataframe thead th {\n",
       "        text-align: right;\n",
       "    }\n",
       "</style>\n",
       "<table border=\"1\" class=\"dataframe\">\n",
       "  <thead>\n",
       "    <tr style=\"text-align: right;\">\n",
       "      <th></th>\n",
       "      <th>joao</th>\n",
       "      <th>maria</th>\n",
       "      <th>pedro</th>\n",
       "      <th>ana</th>\n",
       "      <th>data</th>\n",
       "      <th>ano</th>\n",
       "      <th>mes</th>\n",
       "    </tr>\n",
       "  </thead>\n",
       "  <tbody>\n",
       "    <tr>\n",
       "      <th>matematica</th>\n",
       "      <td>90</td>\n",
       "      <td>95</td>\n",
       "      <td>80</td>\n",
       "      <td>88</td>\n",
       "      <td>2024-01-01</td>\n",
       "      <td>2024</td>\n",
       "      <td>1</td>\n",
       "    </tr>\n",
       "    <tr>\n",
       "      <th>portugues</th>\n",
       "      <td>85</td>\n",
       "      <td>92</td>\n",
       "      <td>75</td>\n",
       "      <td>91</td>\n",
       "      <td>2024-02-01</td>\n",
       "      <td>2024</td>\n",
       "      <td>2</td>\n",
       "    </tr>\n",
       "    <tr>\n",
       "      <th>ciencias</th>\n",
       "      <td>88</td>\n",
       "      <td>89</td>\n",
       "      <td>82</td>\n",
       "      <td>85</td>\n",
       "      <td>2024-03-01</td>\n",
       "      <td>2024</td>\n",
       "      <td>3</td>\n",
       "    </tr>\n",
       "  </tbody>\n",
       "</table>\n",
       "</div>"
      ],
      "text/plain": [
       "            joao  maria  pedro  ana       data   ano  mes\n",
       "matematica    90     95     80   88 2024-01-01  2024    1\n",
       "portugues     85     92     75   91 2024-02-01  2024    2\n",
       "ciencias      88     89     82   85 2024-03-01  2024    3"
      ]
     },
     "execution_count": 19,
     "metadata": {},
     "output_type": "execute_result"
    }
   ],
   "source": [
    "df['data'] = pd.to_datetime(df['data'], format='%d-%m-%Y')\n",
    "df['ano'] = df['data'].dt.year\n",
    "df['mes'] = df['data'].dt.month\n",
    "\n",
    "df"
   ]
  },
  {
   "cell_type": "code",
   "execution_count": null,
   "metadata": {},
   "outputs": [],
   "source": [
    "# para instalar o barato do excel"
   ]
  },
  {
   "cell_type": "code",
   "execution_count": 20,
   "metadata": {},
   "outputs": [
    {
     "name": "stdout",
     "output_type": "stream",
     "text": [
      "Requirement already satisfied: openpyxl in c:\\python311\\lib\\site-packages (3.1.2)\n",
      "Requirement already satisfied: et-xmlfile in c:\\python311\\lib\\site-packages (from openpyxl) (1.1.0)\n",
      "Note: you may need to restart the kernel to use updated packages.\n"
     ]
    },
    {
     "name": "stderr",
     "output_type": "stream",
     "text": [
      "\n",
      "[notice] A new release of pip is available: 23.1.2 -> 24.0\n",
      "[notice] To update, run: python.exe -m pip install --upgrade pip\n"
     ]
    }
   ],
   "source": [
    "pip install openpyxl"
   ]
  },
  {
   "cell_type": "code",
   "execution_count": 21,
   "metadata": {},
   "outputs": [
    {
     "ename": "PermissionError",
     "evalue": "[Errno 13] Permission denied: 'exemplo11.csv'",
     "output_type": "error",
     "traceback": [
      "\u001b[1;31m---------------------------------------------------------------------------\u001b[0m",
      "\u001b[1;31mPermissionError\u001b[0m                           Traceback (most recent call last)",
      "Cell \u001b[1;32mIn[21], line 2\u001b[0m\n\u001b[0;32m      1\u001b[0m \u001b[39m# salvar em csv\u001b[39;00m\n\u001b[1;32m----> 2\u001b[0m df\u001b[39m.\u001b[39;49mto_csv(\u001b[39m'\u001b[39;49m\u001b[39mexemplo11.csv\u001b[39;49m\u001b[39m'\u001b[39;49m)\n",
      "File \u001b[1;32mc:\\Python311\\Lib\\site-packages\\pandas\\util\\_decorators.py:333\u001b[0m, in \u001b[0;36mdeprecate_nonkeyword_arguments.<locals>.decorate.<locals>.wrapper\u001b[1;34m(*args, **kwargs)\u001b[0m\n\u001b[0;32m    327\u001b[0m \u001b[39mif\u001b[39;00m \u001b[39mlen\u001b[39m(args) \u001b[39m>\u001b[39m num_allow_args:\n\u001b[0;32m    328\u001b[0m     warnings\u001b[39m.\u001b[39mwarn(\n\u001b[0;32m    329\u001b[0m         msg\u001b[39m.\u001b[39mformat(arguments\u001b[39m=\u001b[39m_format_argument_list(allow_args)),\n\u001b[0;32m    330\u001b[0m         \u001b[39mFutureWarning\u001b[39;00m,\n\u001b[0;32m    331\u001b[0m         stacklevel\u001b[39m=\u001b[39mfind_stack_level(),\n\u001b[0;32m    332\u001b[0m     )\n\u001b[1;32m--> 333\u001b[0m \u001b[39mreturn\u001b[39;00m func(\u001b[39m*\u001b[39;49margs, \u001b[39m*\u001b[39;49m\u001b[39m*\u001b[39;49mkwargs)\n",
      "File \u001b[1;32mc:\\Python311\\Lib\\site-packages\\pandas\\core\\generic.py:3964\u001b[0m, in \u001b[0;36mNDFrame.to_csv\u001b[1;34m(self, path_or_buf, sep, na_rep, float_format, columns, header, index, index_label, mode, encoding, compression, quoting, quotechar, lineterminator, chunksize, date_format, doublequote, escapechar, decimal, errors, storage_options)\u001b[0m\n\u001b[0;32m   3953\u001b[0m df \u001b[39m=\u001b[39m \u001b[39mself\u001b[39m \u001b[39mif\u001b[39;00m \u001b[39misinstance\u001b[39m(\u001b[39mself\u001b[39m, ABCDataFrame) \u001b[39melse\u001b[39;00m \u001b[39mself\u001b[39m\u001b[39m.\u001b[39mto_frame()\n\u001b[0;32m   3955\u001b[0m formatter \u001b[39m=\u001b[39m DataFrameFormatter(\n\u001b[0;32m   3956\u001b[0m     frame\u001b[39m=\u001b[39mdf,\n\u001b[0;32m   3957\u001b[0m     header\u001b[39m=\u001b[39mheader,\n\u001b[1;32m   (...)\u001b[0m\n\u001b[0;32m   3961\u001b[0m     decimal\u001b[39m=\u001b[39mdecimal,\n\u001b[0;32m   3962\u001b[0m )\n\u001b[1;32m-> 3964\u001b[0m \u001b[39mreturn\u001b[39;00m DataFrameRenderer(formatter)\u001b[39m.\u001b[39;49mto_csv(\n\u001b[0;32m   3965\u001b[0m     path_or_buf,\n\u001b[0;32m   3966\u001b[0m     lineterminator\u001b[39m=\u001b[39;49mlineterminator,\n\u001b[0;32m   3967\u001b[0m     sep\u001b[39m=\u001b[39;49msep,\n\u001b[0;32m   3968\u001b[0m     encoding\u001b[39m=\u001b[39;49mencoding,\n\u001b[0;32m   3969\u001b[0m     errors\u001b[39m=\u001b[39;49merrors,\n\u001b[0;32m   3970\u001b[0m     compression\u001b[39m=\u001b[39;49mcompression,\n\u001b[0;32m   3971\u001b[0m     quoting\u001b[39m=\u001b[39;49mquoting,\n\u001b[0;32m   3972\u001b[0m     columns\u001b[39m=\u001b[39;49mcolumns,\n\u001b[0;32m   3973\u001b[0m     index_label\u001b[39m=\u001b[39;49mindex_label,\n\u001b[0;32m   3974\u001b[0m     mode\u001b[39m=\u001b[39;49mmode,\n\u001b[0;32m   3975\u001b[0m     chunksize\u001b[39m=\u001b[39;49mchunksize,\n\u001b[0;32m   3976\u001b[0m     quotechar\u001b[39m=\u001b[39;49mquotechar,\n\u001b[0;32m   3977\u001b[0m     date_format\u001b[39m=\u001b[39;49mdate_format,\n\u001b[0;32m   3978\u001b[0m     doublequote\u001b[39m=\u001b[39;49mdoublequote,\n\u001b[0;32m   3979\u001b[0m     escapechar\u001b[39m=\u001b[39;49mescapechar,\n\u001b[0;32m   3980\u001b[0m     storage_options\u001b[39m=\u001b[39;49mstorage_options,\n\u001b[0;32m   3981\u001b[0m )\n",
      "File \u001b[1;32mc:\\Python311\\Lib\\site-packages\\pandas\\io\\formats\\format.py:1014\u001b[0m, in \u001b[0;36mDataFrameRenderer.to_csv\u001b[1;34m(self, path_or_buf, encoding, sep, columns, index_label, mode, compression, quoting, quotechar, lineterminator, chunksize, date_format, doublequote, escapechar, errors, storage_options)\u001b[0m\n\u001b[0;32m    993\u001b[0m     created_buffer \u001b[39m=\u001b[39m \u001b[39mFalse\u001b[39;00m\n\u001b[0;32m    995\u001b[0m csv_formatter \u001b[39m=\u001b[39m CSVFormatter(\n\u001b[0;32m    996\u001b[0m     path_or_buf\u001b[39m=\u001b[39mpath_or_buf,\n\u001b[0;32m    997\u001b[0m     lineterminator\u001b[39m=\u001b[39mlineterminator,\n\u001b[1;32m   (...)\u001b[0m\n\u001b[0;32m   1012\u001b[0m     formatter\u001b[39m=\u001b[39m\u001b[39mself\u001b[39m\u001b[39m.\u001b[39mfmt,\n\u001b[0;32m   1013\u001b[0m )\n\u001b[1;32m-> 1014\u001b[0m csv_formatter\u001b[39m.\u001b[39;49msave()\n\u001b[0;32m   1016\u001b[0m \u001b[39mif\u001b[39;00m created_buffer:\n\u001b[0;32m   1017\u001b[0m     \u001b[39massert\u001b[39;00m \u001b[39misinstance\u001b[39m(path_or_buf, StringIO)\n",
      "File \u001b[1;32mc:\\Python311\\Lib\\site-packages\\pandas\\io\\formats\\csvs.py:251\u001b[0m, in \u001b[0;36mCSVFormatter.save\u001b[1;34m(self)\u001b[0m\n\u001b[0;32m    247\u001b[0m \u001b[39m\u001b[39m\u001b[39m\"\"\"\u001b[39;00m\n\u001b[0;32m    248\u001b[0m \u001b[39mCreate the writer & save.\u001b[39;00m\n\u001b[0;32m    249\u001b[0m \u001b[39m\"\"\"\u001b[39;00m\n\u001b[0;32m    250\u001b[0m \u001b[39m# apply compression and byte/text conversion\u001b[39;00m\n\u001b[1;32m--> 251\u001b[0m \u001b[39mwith\u001b[39;00m get_handle(\n\u001b[0;32m    252\u001b[0m     \u001b[39mself\u001b[39;49m\u001b[39m.\u001b[39;49mfilepath_or_buffer,\n\u001b[0;32m    253\u001b[0m     \u001b[39mself\u001b[39;49m\u001b[39m.\u001b[39;49mmode,\n\u001b[0;32m    254\u001b[0m     encoding\u001b[39m=\u001b[39;49m\u001b[39mself\u001b[39;49m\u001b[39m.\u001b[39;49mencoding,\n\u001b[0;32m    255\u001b[0m     errors\u001b[39m=\u001b[39;49m\u001b[39mself\u001b[39;49m\u001b[39m.\u001b[39;49merrors,\n\u001b[0;32m    256\u001b[0m     compression\u001b[39m=\u001b[39;49m\u001b[39mself\u001b[39;49m\u001b[39m.\u001b[39;49mcompression,\n\u001b[0;32m    257\u001b[0m     storage_options\u001b[39m=\u001b[39;49m\u001b[39mself\u001b[39;49m\u001b[39m.\u001b[39;49mstorage_options,\n\u001b[0;32m    258\u001b[0m ) \u001b[39mas\u001b[39;00m handles:\n\u001b[0;32m    259\u001b[0m     \u001b[39m# Note: self.encoding is irrelevant here\u001b[39;00m\n\u001b[0;32m    260\u001b[0m     \u001b[39mself\u001b[39m\u001b[39m.\u001b[39mwriter \u001b[39m=\u001b[39m csvlib\u001b[39m.\u001b[39mwriter(\n\u001b[0;32m    261\u001b[0m         handles\u001b[39m.\u001b[39mhandle,\n\u001b[0;32m    262\u001b[0m         lineterminator\u001b[39m=\u001b[39m\u001b[39mself\u001b[39m\u001b[39m.\u001b[39mlineterminator,\n\u001b[1;32m   (...)\u001b[0m\n\u001b[0;32m    267\u001b[0m         quotechar\u001b[39m=\u001b[39m\u001b[39mself\u001b[39m\u001b[39m.\u001b[39mquotechar,\n\u001b[0;32m    268\u001b[0m     )\n\u001b[0;32m    270\u001b[0m     \u001b[39mself\u001b[39m\u001b[39m.\u001b[39m_save()\n",
      "File \u001b[1;32mc:\\Python311\\Lib\\site-packages\\pandas\\io\\common.py:873\u001b[0m, in \u001b[0;36mget_handle\u001b[1;34m(path_or_buf, mode, encoding, compression, memory_map, is_text, errors, storage_options)\u001b[0m\n\u001b[0;32m    868\u001b[0m \u001b[39melif\u001b[39;00m \u001b[39misinstance\u001b[39m(handle, \u001b[39mstr\u001b[39m):\n\u001b[0;32m    869\u001b[0m     \u001b[39m# Check whether the filename is to be opened in binary mode.\u001b[39;00m\n\u001b[0;32m    870\u001b[0m     \u001b[39m# Binary mode does not support 'encoding' and 'newline'.\u001b[39;00m\n\u001b[0;32m    871\u001b[0m     \u001b[39mif\u001b[39;00m ioargs\u001b[39m.\u001b[39mencoding \u001b[39mand\u001b[39;00m \u001b[39m\"\u001b[39m\u001b[39mb\u001b[39m\u001b[39m\"\u001b[39m \u001b[39mnot\u001b[39;00m \u001b[39min\u001b[39;00m ioargs\u001b[39m.\u001b[39mmode:\n\u001b[0;32m    872\u001b[0m         \u001b[39m# Encoding\u001b[39;00m\n\u001b[1;32m--> 873\u001b[0m         handle \u001b[39m=\u001b[39m \u001b[39mopen\u001b[39;49m(\n\u001b[0;32m    874\u001b[0m             handle,\n\u001b[0;32m    875\u001b[0m             ioargs\u001b[39m.\u001b[39;49mmode,\n\u001b[0;32m    876\u001b[0m             encoding\u001b[39m=\u001b[39;49mioargs\u001b[39m.\u001b[39;49mencoding,\n\u001b[0;32m    877\u001b[0m             errors\u001b[39m=\u001b[39;49merrors,\n\u001b[0;32m    878\u001b[0m             newline\u001b[39m=\u001b[39;49m\u001b[39m\"\u001b[39;49m\u001b[39m\"\u001b[39;49m,\n\u001b[0;32m    879\u001b[0m         )\n\u001b[0;32m    880\u001b[0m     \u001b[39melse\u001b[39;00m:\n\u001b[0;32m    881\u001b[0m         \u001b[39m# Binary mode\u001b[39;00m\n\u001b[0;32m    882\u001b[0m         handle \u001b[39m=\u001b[39m \u001b[39mopen\u001b[39m(handle, ioargs\u001b[39m.\u001b[39mmode)\n",
      "\u001b[1;31mPermissionError\u001b[0m: [Errno 13] Permission denied: 'exemplo11.csv'"
     ]
    }
   ],
   "source": [
    "# salvar em csv\n",
    "df.to_csv('exemplo11.csv')"
   ]
  },
  {
   "cell_type": "code",
   "execution_count": 22,
   "metadata": {},
   "outputs": [],
   "source": [
    "# salvando em excel\n",
    "df.to_excel('exemplo1.xlsx')"
   ]
  },
  {
   "cell_type": "code",
   "execution_count": 23,
   "metadata": {},
   "outputs": [
    {
     "data": {
      "text/plain": [
       "{'produtos': {'celular', 'notbook', 'tablet'},\n",
       " 'mes': {'01-01-2023', '01-02-2023', '01-03-2023'},\n",
       " 'vendas': {80, 90, 100, 120, 130, 150, 180, 200}}"
      ]
     },
     "execution_count": 23,
     "metadata": {},
     "output_type": "execute_result"
    }
   ],
   "source": [
    "produtos_tec = {\n",
    "    'produtos': {'celular','celular','celular', 'tablet','tablet','tablet', 'notbook', 'notbook', 'notbook'},\n",
    "    'mes': {'01-01-2023','01-02-2023','01-03-2023','01-01-2023','01-02-2023','01-03-2023','01-01-2023','01-02-2023','01-03-2023'},\n",
    "    'vendas': {150, 180, 200, 100, 120, 130, 80, 90, 100}\n",
    "}\n",
    "produtos_tec"
   ]
  },
  {
   "cell_type": "code",
   "execution_count": 32,
   "metadata": {},
   "outputs": [
    {
     "data": {
      "text/html": [
       "<div>\n",
       "<style scoped>\n",
       "    .dataframe tbody tr th:only-of-type {\n",
       "        vertical-align: middle;\n",
       "    }\n",
       "\n",
       "    .dataframe tbody tr th {\n",
       "        vertical-align: top;\n",
       "    }\n",
       "\n",
       "    .dataframe thead th {\n",
       "        text-align: right;\n",
       "    }\n",
       "</style>\n",
       "<table border=\"1\" class=\"dataframe\">\n",
       "  <thead>\n",
       "    <tr style=\"text-align: right;\">\n",
       "      <th></th>\n",
       "      <th>produtos</th>\n",
       "      <th>mes</th>\n",
       "      <th>vendas</th>\n",
       "    </tr>\n",
       "  </thead>\n",
       "  <tbody>\n",
       "    <tr>\n",
       "      <th>0</th>\n",
       "      <td>celular</td>\n",
       "      <td>01-01-2023</td>\n",
       "      <td>150</td>\n",
       "    </tr>\n",
       "    <tr>\n",
       "      <th>1</th>\n",
       "      <td>celular</td>\n",
       "      <td>01-02-2023</td>\n",
       "      <td>180</td>\n",
       "    </tr>\n",
       "    <tr>\n",
       "      <th>2</th>\n",
       "      <td>celular</td>\n",
       "      <td>01-03-2023</td>\n",
       "      <td>200</td>\n",
       "    </tr>\n",
       "    <tr>\n",
       "      <th>3</th>\n",
       "      <td>tablet</td>\n",
       "      <td>01-01-2023</td>\n",
       "      <td>100</td>\n",
       "    </tr>\n",
       "    <tr>\n",
       "      <th>4</th>\n",
       "      <td>tablet</td>\n",
       "      <td>01-02-2023</td>\n",
       "      <td>120</td>\n",
       "    </tr>\n",
       "    <tr>\n",
       "      <th>5</th>\n",
       "      <td>tablet</td>\n",
       "      <td>01-03-2023</td>\n",
       "      <td>130</td>\n",
       "    </tr>\n",
       "    <tr>\n",
       "      <th>6</th>\n",
       "      <td>notbook</td>\n",
       "      <td>01-01-2023</td>\n",
       "      <td>80</td>\n",
       "    </tr>\n",
       "    <tr>\n",
       "      <th>7</th>\n",
       "      <td>notbook</td>\n",
       "      <td>01-02-2023</td>\n",
       "      <td>90</td>\n",
       "    </tr>\n",
       "    <tr>\n",
       "      <th>8</th>\n",
       "      <td>notbook</td>\n",
       "      <td>01-03-2023</td>\n",
       "      <td>100</td>\n",
       "    </tr>\n",
       "  </tbody>\n",
       "</table>\n",
       "</div>"
      ],
      "text/plain": [
       "  produtos         mes  vendas\n",
       "0  celular  01-01-2023     150\n",
       "1  celular  01-02-2023     180\n",
       "2  celular  01-03-2023     200\n",
       "3   tablet  01-01-2023     100\n",
       "4   tablet  01-02-2023     120\n",
       "5   tablet  01-03-2023     130\n",
       "6  notbook  01-01-2023      80\n",
       "7  notbook  01-02-2023      90\n",
       "8  notbook  01-03-2023     100"
      ]
     },
     "execution_count": 32,
     "metadata": {},
     "output_type": "execute_result"
    }
   ],
   "source": [
    "data = {\n",
    "    'produtos': ['celular','celular','celular', 'tablet','tablet','tablet', 'notbook', 'notbook', 'notbook'],\n",
    "    'mes': ['01-01-2023','01-02-2023','01-03-2023','01-01-2023','01-02-2023','01-03-2023','01-01-2023','01-02-2023','01-03-2023'],\n",
    "    'vendas': [150, 180, 200, 100, 120, 130, 80, 90, 100]\n",
    "}\n",
    "data\n",
    "\n",
    "df = pd.DataFrame(data)\n",
    "df"
   ]
  },
  {
   "cell_type": "code",
   "execution_count": 33,
   "metadata": {},
   "outputs": [],
   "source": [
    "df['mes'] = pd.to_datetime(df['mes'], format='%d-%m-%Y')\n",
    "df['ano'] = df['mes'].dt.year\n",
    "df['mes'] = df['mes'].dt.month"
   ]
  },
  {
   "cell_type": "code",
   "execution_count": 35,
   "metadata": {},
   "outputs": [
    {
     "data": {
      "text/plain": [
       "mes\n",
       "1    150\n",
       "2    180\n",
       "3    200\n",
       "1    100\n",
       "2    120\n",
       "3    130\n",
       "1     80\n",
       "2     90\n",
       "3    100\n",
       "dtype: int64"
      ]
     },
     "execution_count": 35,
     "metadata": {},
     "output_type": "execute_result"
    }
   ],
   "source": [
    "vendas_series = pd.Series(df['vendas'].values, index=df['mes'])\n",
    "vendas_series"
   ]
  },
  {
   "cell_type": "code",
   "execution_count": 39,
   "metadata": {},
   "outputs": [
    {
     "data": {
      "text/plain": [
       "produtos\n",
       "celular    530\n",
       "notbook    270\n",
       "tablet     350\n",
       "Name: vendas, dtype: int64"
      ]
     },
     "execution_count": 39,
     "metadata": {},
     "output_type": "execute_result"
    }
   ],
   "source": [
    "# aqui ele faz a soma o .groupby para agrupar os produtos e depois que ele agrupa ele pede para eu dar alguma função no caso usei a soma.\n",
    "produto_mais_vendido = df.groupby('produtos')['vendas'].sum()\n",
    "produto_mais_vendido"
   ]
  },
  {
   "cell_type": "code",
   "execution_count": 40,
   "metadata": {},
   "outputs": [
    {
     "data": {
      "text/plain": [
       "'celular'"
      ]
     },
     "execution_count": 40,
     "metadata": {},
     "output_type": "execute_result"
    }
   ],
   "source": [
    "produto_mais_vendido = df.groupby('produtos')['vendas'].sum().idxmax()\n",
    "produto_mais_vendido"
   ]
  },
  {
   "cell_type": "code",
   "execution_count": 44,
   "metadata": {},
   "outputs": [
    {
     "name": "stdout",
     "output_type": "stream",
     "text": [
      "a media mean é 127.78, a media midian é 120.0, o minimo de vendas é 80, e a maxima de venda é 200\n"
     ]
    }
   ],
   "source": [
    "media_vendas = vendas_series.mean()\n",
    "media2_vendas = vendas_series.median()\n",
    "minimo_vendas = vendas_series.min()\n",
    "maximo_vendas = vendas_series.max()\n",
    "\n",
    "print(f\"a media mean é {media_vendas:.2f}, a media midian é {media2_vendas}, o minimo de vendas é {minimo_vendas}, e a maxima de venda é {maximo_vendas}\")"
   ]
  },
  {
   "cell_type": "code",
   "execution_count": 50,
   "metadata": {},
   "outputs": [
    {
     "name": "stdout",
     "output_type": "stream",
     "text": [
      "Collecting matplotlib\n",
      "  Downloading matplotlib-3.8.3-cp311-cp311-win_amd64.whl (7.6 MB)\n",
      "                                              0.0/7.6 MB ? eta -:--:--\n",
      "     -                                        0.3/7.6 MB 8.6 MB/s eta 0:00:01\n",
      "     ---                                      0.6/7.6 MB 7.5 MB/s eta 0:00:01\n",
      "     ----                                     0.8/7.6 MB 6.4 MB/s eta 0:00:02\n",
      "     -----                                    1.0/7.6 MB 6.0 MB/s eta 0:00:02\n",
      "     ------                                   1.3/7.6 MB 5.8 MB/s eta 0:00:02\n",
      "     -------                                  1.5/7.6 MB 5.5 MB/s eta 0:00:02\n",
      "     --------                                 1.6/7.6 MB 5.4 MB/s eta 0:00:02\n",
      "     ---------                                1.8/7.6 MB 4.9 MB/s eta 0:00:02\n",
      "     ---------                                1.9/7.6 MB 4.6 MB/s eta 0:00:02\n",
      "     ----------                               2.0/7.6 MB 4.4 MB/s eta 0:00:02\n",
      "     -----------                              2.1/7.6 MB 4.2 MB/s eta 0:00:02\n",
      "     -----------                              2.3/7.6 MB 4.1 MB/s eta 0:00:02\n",
      "     ------------                             2.4/7.6 MB 4.1 MB/s eta 0:00:02\n",
      "     -------------                            2.6/7.6 MB 4.0 MB/s eta 0:00:02\n",
      "     --------------                           2.8/7.6 MB 4.0 MB/s eta 0:00:02\n",
      "     ---------------                          3.0/7.6 MB 4.0 MB/s eta 0:00:02\n",
      "     ----------------                         3.2/7.6 MB 4.1 MB/s eta 0:00:02\n",
      "     -----------------                        3.4/7.6 MB 4.0 MB/s eta 0:00:02\n",
      "     ------------------                       3.5/7.6 MB 4.0 MB/s eta 0:00:02\n",
      "     ------------------                       3.6/7.6 MB 3.9 MB/s eta 0:00:02\n",
      "     -------------------                      3.7/7.6 MB 3.8 MB/s eta 0:00:02\n",
      "     --------------------                     3.9/7.6 MB 3.8 MB/s eta 0:00:01\n",
      "     ---------------------                    4.0/7.6 MB 3.8 MB/s eta 0:00:01\n",
      "     ---------------------                    4.2/7.6 MB 3.8 MB/s eta 0:00:01\n",
      "     ----------------------                   4.4/7.6 MB 3.8 MB/s eta 0:00:01\n",
      "     -----------------------                  4.5/7.6 MB 3.8 MB/s eta 0:00:01\n",
      "     ------------------------                 4.7/7.6 MB 3.7 MB/s eta 0:00:01\n",
      "     -------------------------                4.9/7.6 MB 3.7 MB/s eta 0:00:01\n",
      "     --------------------------               5.0/7.6 MB 3.7 MB/s eta 0:00:01\n",
      "     ---------------------------              5.2/7.6 MB 3.7 MB/s eta 0:00:01\n",
      "     ----------------------------             5.4/7.6 MB 3.8 MB/s eta 0:00:01\n",
      "     -----------------------------            5.6/7.6 MB 3.8 MB/s eta 0:00:01\n",
      "     ------------------------------           5.7/7.6 MB 3.7 MB/s eta 0:00:01\n",
      "     ------------------------------           5.9/7.6 MB 3.7 MB/s eta 0:00:01\n",
      "     -------------------------------          6.1/7.6 MB 3.8 MB/s eta 0:00:01\n",
      "     --------------------------------         6.3/7.6 MB 3.8 MB/s eta 0:00:01\n",
      "     ----------------------------------       6.5/7.6 MB 3.8 MB/s eta 0:00:01\n",
      "     -----------------------------------      6.7/7.6 MB 3.8 MB/s eta 0:00:01\n",
      "     -----------------------------------      6.8/7.6 MB 3.8 MB/s eta 0:00:01\n",
      "     -----------------------------------      6.8/7.6 MB 3.8 MB/s eta 0:00:01\n",
      "     -----------------------------------      6.8/7.6 MB 3.8 MB/s eta 0:00:01\n",
      "     -----------------------------------      6.8/7.6 MB 3.8 MB/s eta 0:00:01\n",
      "     -----------------------------------      6.8/7.6 MB 3.8 MB/s eta 0:00:01\n",
      "     -----------------------------------      6.8/7.6 MB 3.3 MB/s eta 0:00:01\n",
      "     -----------------------------------      6.9/7.6 MB 3.3 MB/s eta 0:00:01\n",
      "     ------------------------------------     7.0/7.6 MB 3.3 MB/s eta 0:00:01\n",
      "     -------------------------------------    7.2/7.6 MB 3.3 MB/s eta 0:00:01\n",
      "     --------------------------------------   7.4/7.6 MB 3.3 MB/s eta 0:00:01\n",
      "     ---------------------------------------  7.5/7.6 MB 3.3 MB/s eta 0:00:01\n",
      "     ---------------------------------------  7.6/7.6 MB 3.3 MB/s eta 0:00:01\n",
      "     ---------------------------------------- 7.6/7.6 MB 3.3 MB/s eta 0:00:00\n",
      "Collecting contourpy>=1.0.1 (from matplotlib)\n",
      "  Downloading contourpy-1.2.0-cp311-cp311-win_amd64.whl (187 kB)\n",
      "                                              0.0/187.6 kB ? eta -:--:--\n",
      "     ----------------------                 112.6/187.6 kB 3.2 MB/s eta 0:00:01\n",
      "     -------------------------------------- 187.6/187.6 kB 3.8 MB/s eta 0:00:00\n",
      "Collecting cycler>=0.10 (from matplotlib)\n",
      "  Downloading cycler-0.12.1-py3-none-any.whl (8.3 kB)\n",
      "Collecting fonttools>=4.22.0 (from matplotlib)\n",
      "  Downloading fonttools-4.49.0-cp311-cp311-win_amd64.whl (2.2 MB)\n",
      "                                              0.0/2.2 MB ? eta -:--:--\n",
      "     --                                       0.1/2.2 MB 4.3 MB/s eta 0:00:01\n",
      "     -----                                    0.3/2.2 MB 4.4 MB/s eta 0:00:01\n",
      "     -------                                  0.4/2.2 MB 3.4 MB/s eta 0:00:01\n",
      "     ---------                                0.5/2.2 MB 3.2 MB/s eta 0:00:01\n",
      "     -----------                              0.6/2.2 MB 3.0 MB/s eta 0:00:01\n",
      "     --------------                           0.8/2.2 MB 2.9 MB/s eta 0:00:01\n",
      "     -----------------                        0.9/2.2 MB 3.1 MB/s eta 0:00:01\n",
      "     --------------------                     1.1/2.2 MB 3.2 MB/s eta 0:00:01\n",
      "     ------------------------                 1.3/2.2 MB 3.2 MB/s eta 0:00:01\n",
      "     ---------------------------              1.5/2.2 MB 3.3 MB/s eta 0:00:01\n",
      "     -------------------------------          1.7/2.2 MB 3.4 MB/s eta 0:00:01\n",
      "     -----------------------------------      1.9/2.2 MB 3.6 MB/s eta 0:00:01\n",
      "     ---------------------------------------  2.2/2.2 MB 3.7 MB/s eta 0:00:01\n",
      "     ---------------------------------------- 2.2/2.2 MB 3.7 MB/s eta 0:00:00\n",
      "Collecting kiwisolver>=1.3.1 (from matplotlib)\n",
      "  Downloading kiwisolver-1.4.5-cp311-cp311-win_amd64.whl (56 kB)\n",
      "                                              0.0/56.1 kB ? eta -:--:--\n",
      "     ---------------------------------------- 56.1/56.1 kB 3.1 MB/s eta 0:00:00\n",
      "Requirement already satisfied: numpy<2,>=1.21 in c:\\python311\\lib\\site-packages (from matplotlib) (1.26.4)\n",
      "Requirement already satisfied: packaging>=20.0 in c:\\python311\\lib\\site-packages (from matplotlib) (23.1)\n",
      "Collecting pillow>=8 (from matplotlib)\n",
      "  Downloading pillow-10.2.0-cp311-cp311-win_amd64.whl (2.6 MB)\n",
      "                                              0.0/2.6 MB ? eta -:--:--\n",
      "     --                                       0.2/2.6 MB 3.9 MB/s eta 0:00:01\n",
      "     ------                                   0.4/2.6 MB 5.0 MB/s eta 0:00:01\n",
      "     ---------                                0.6/2.6 MB 4.3 MB/s eta 0:00:01\n",
      "     ------------                             0.8/2.6 MB 4.3 MB/s eta 0:00:01\n",
      "     --------------                           0.9/2.6 MB 4.5 MB/s eta 0:00:01\n",
      "     --------------                           1.0/2.6 MB 3.6 MB/s eta 0:00:01\n",
      "     ----------------                         1.1/2.6 MB 3.5 MB/s eta 0:00:01\n",
      "     -------------------                      1.3/2.6 MB 3.5 MB/s eta 0:00:01\n",
      "     ----------------------                   1.5/2.6 MB 3.4 MB/s eta 0:00:01\n",
      "     -------------------------                1.6/2.6 MB 3.6 MB/s eta 0:00:01\n",
      "     ---------------------------              1.8/2.6 MB 3.6 MB/s eta 0:00:01\n",
      "     ------------------------------           2.0/2.6 MB 3.6 MB/s eta 0:00:01\n",
      "     --------------------------------         2.1/2.6 MB 3.5 MB/s eta 0:00:01\n",
      "     -----------------------------------      2.3/2.6 MB 3.6 MB/s eta 0:00:01\n",
      "     -------------------------------------    2.5/2.6 MB 3.6 MB/s eta 0:00:01\n",
      "     ---------------------------------------- 2.6/2.6 MB 3.6 MB/s eta 0:00:00\n",
      "Collecting pyparsing>=2.3.1 (from matplotlib)\n",
      "  Downloading pyparsing-3.1.1-py3-none-any.whl (103 kB)\n",
      "                                              0.0/103.1 kB ? eta -:--:--\n",
      "     -------------------------------------- 103.1/103.1 kB 5.8 MB/s eta 0:00:00\n",
      "Requirement already satisfied: python-dateutil>=2.7 in c:\\python311\\lib\\site-packages (from matplotlib) (2.8.2)\n",
      "Requirement already satisfied: six>=1.5 in c:\\python311\\lib\\site-packages (from python-dateutil>=2.7->matplotlib) (1.16.0)\n",
      "Installing collected packages: pyparsing, pillow, kiwisolver, fonttools, cycler, contourpy, matplotlib\n",
      "Successfully installed contourpy-1.2.0 cycler-0.12.1 fonttools-4.49.0 kiwisolver-1.4.5 matplotlib-3.8.3 pillow-10.2.0 pyparsing-3.1.1\n",
      "Note: you may need to restart the kernel to use updated packages.\n"
     ]
    },
    {
     "name": "stderr",
     "output_type": "stream",
     "text": [
      "\n",
      "[notice] A new release of pip is available: 23.1.2 -> 24.0\n",
      "[notice] To update, run: python.exe -m pip install --upgrade pip\n"
     ]
    }
   ],
   "source": [
    "pip install matplotlib"
   ]
  },
  {
   "cell_type": "code",
   "execution_count": 49,
   "metadata": {},
   "outputs": [
    {
     "data": {
      "text/html": [
       "<div>\n",
       "<style scoped>\n",
       "    .dataframe tbody tr th:only-of-type {\n",
       "        vertical-align: middle;\n",
       "    }\n",
       "\n",
       "    .dataframe tbody tr th {\n",
       "        vertical-align: top;\n",
       "    }\n",
       "\n",
       "    .dataframe thead th {\n",
       "        text-align: right;\n",
       "    }\n",
       "</style>\n",
       "<table border=\"1\" class=\"dataframe\">\n",
       "  <thead>\n",
       "    <tr style=\"text-align: right;\">\n",
       "      <th>produtos</th>\n",
       "      <th>celular</th>\n",
       "      <th>notbook</th>\n",
       "      <th>tablet</th>\n",
       "    </tr>\n",
       "    <tr>\n",
       "      <th>mes</th>\n",
       "      <th></th>\n",
       "      <th></th>\n",
       "      <th></th>\n",
       "    </tr>\n",
       "  </thead>\n",
       "  <tbody>\n",
       "    <tr>\n",
       "      <th>1</th>\n",
       "      <td>150</td>\n",
       "      <td>80</td>\n",
       "      <td>100</td>\n",
       "    </tr>\n",
       "    <tr>\n",
       "      <th>2</th>\n",
       "      <td>180</td>\n",
       "      <td>90</td>\n",
       "      <td>120</td>\n",
       "    </tr>\n",
       "    <tr>\n",
       "      <th>3</th>\n",
       "      <td>200</td>\n",
       "      <td>100</td>\n",
       "      <td>130</td>\n",
       "    </tr>\n",
       "  </tbody>\n",
       "</table>\n",
       "</div>"
      ],
      "text/plain": [
       "produtos  celular  notbook  tablet\n",
       "mes                               \n",
       "1             150       80     100\n",
       "2             180       90     120\n",
       "3             200      100     130"
      ]
     },
     "execution_count": 49,
     "metadata": {},
     "output_type": "execute_result"
    }
   ],
   "source": [
    "df_grouped = df.groupby(['mes', 'produtos'])['vendas'].sum().unstack()\n",
    "df_grouped"
   ]
  },
  {
   "cell_type": "code",
   "execution_count": 58,
   "metadata": {},
   "outputs": [],
   "source": [
    "df['variação porcentual'] = df.groupby('produtos')['vendas'].pct_change()"
   ]
  },
  {
   "cell_type": "code",
   "execution_count": 64,
   "metadata": {},
   "outputs": [
    {
     "data": {
      "text/plain": [
       "3"
      ]
     },
     "execution_count": 64,
     "metadata": {},
     "output_type": "execute_result"
    }
   ],
   "source": [
    "mes_maior_variacao = df.loc[df['variação porcentual'].idxmax()]['mes']\n",
    "mes_maior_variacao = df.loc[df['variação porcentual'].idxmin()]['mes']\n",
    "mes_maior_variacao\n"
   ]
  },
  {
   "cell_type": "code",
   "execution_count": 63,
   "metadata": {},
   "outputs": [
    {
     "data": {
      "text/html": [
       "<div>\n",
       "<style scoped>\n",
       "    .dataframe tbody tr th:only-of-type {\n",
       "        vertical-align: middle;\n",
       "    }\n",
       "\n",
       "    .dataframe tbody tr th {\n",
       "        vertical-align: top;\n",
       "    }\n",
       "\n",
       "    .dataframe thead th {\n",
       "        text-align: right;\n",
       "    }\n",
       "</style>\n",
       "<table border=\"1\" class=\"dataframe\">\n",
       "  <thead>\n",
       "    <tr style=\"text-align: right;\">\n",
       "      <th></th>\n",
       "      <th>produtos</th>\n",
       "      <th>mes</th>\n",
       "      <th>vendas</th>\n",
       "      <th>ano</th>\n",
       "      <th>variação porcentual</th>\n",
       "    </tr>\n",
       "  </thead>\n",
       "  <tbody>\n",
       "    <tr>\n",
       "      <th>0</th>\n",
       "      <td>celular</td>\n",
       "      <td>1</td>\n",
       "      <td>150</td>\n",
       "      <td>2023</td>\n",
       "      <td>NaN</td>\n",
       "    </tr>\n",
       "    <tr>\n",
       "      <th>1</th>\n",
       "      <td>celular</td>\n",
       "      <td>2</td>\n",
       "      <td>180</td>\n",
       "      <td>2023</td>\n",
       "      <td>0.200000</td>\n",
       "    </tr>\n",
       "    <tr>\n",
       "      <th>2</th>\n",
       "      <td>celular</td>\n",
       "      <td>3</td>\n",
       "      <td>200</td>\n",
       "      <td>2023</td>\n",
       "      <td>0.111111</td>\n",
       "    </tr>\n",
       "    <tr>\n",
       "      <th>3</th>\n",
       "      <td>tablet</td>\n",
       "      <td>1</td>\n",
       "      <td>100</td>\n",
       "      <td>2023</td>\n",
       "      <td>NaN</td>\n",
       "    </tr>\n",
       "    <tr>\n",
       "      <th>4</th>\n",
       "      <td>tablet</td>\n",
       "      <td>2</td>\n",
       "      <td>120</td>\n",
       "      <td>2023</td>\n",
       "      <td>0.200000</td>\n",
       "    </tr>\n",
       "    <tr>\n",
       "      <th>5</th>\n",
       "      <td>tablet</td>\n",
       "      <td>3</td>\n",
       "      <td>130</td>\n",
       "      <td>2023</td>\n",
       "      <td>0.083333</td>\n",
       "    </tr>\n",
       "    <tr>\n",
       "      <th>6</th>\n",
       "      <td>notbook</td>\n",
       "      <td>1</td>\n",
       "      <td>80</td>\n",
       "      <td>2023</td>\n",
       "      <td>NaN</td>\n",
       "    </tr>\n",
       "    <tr>\n",
       "      <th>7</th>\n",
       "      <td>notbook</td>\n",
       "      <td>2</td>\n",
       "      <td>90</td>\n",
       "      <td>2023</td>\n",
       "      <td>0.125000</td>\n",
       "    </tr>\n",
       "    <tr>\n",
       "      <th>8</th>\n",
       "      <td>notbook</td>\n",
       "      <td>3</td>\n",
       "      <td>100</td>\n",
       "      <td>2023</td>\n",
       "      <td>0.111111</td>\n",
       "    </tr>\n",
       "  </tbody>\n",
       "</table>\n",
       "</div>"
      ],
      "text/plain": [
       "  produtos  mes  vendas   ano  variação porcentual\n",
       "0  celular    1     150  2023                  NaN\n",
       "1  celular    2     180  2023             0.200000\n",
       "2  celular    3     200  2023             0.111111\n",
       "3   tablet    1     100  2023                  NaN\n",
       "4   tablet    2     120  2023             0.200000\n",
       "5   tablet    3     130  2023             0.083333\n",
       "6  notbook    1      80  2023                  NaN\n",
       "7  notbook    2      90  2023             0.125000\n",
       "8  notbook    3     100  2023             0.111111"
      ]
     },
     "execution_count": 63,
     "metadata": {},
     "output_type": "execute_result"
    }
   ],
   "source": [
    "df"
   ]
  },
  {
   "cell_type": "code",
   "execution_count": 54,
   "metadata": {},
   "outputs": [],
   "source": [
    "import matplotlib.pyplot as plt"
   ]
  },
  {
   "cell_type": "code",
   "execution_count": 56,
   "metadata": {},
   "outputs": [
    {
     "data": {
      "text/plain": [
       "<Figure size 1000x600 with 0 Axes>"
      ]
     },
     "metadata": {},
     "output_type": "display_data"
    },
    {
     "data": {
      "image/png": "[encoded data removed]",
      "text/plain": [
       "<Figure size 640x480 with 1 Axes>"
      ]
     },
     "metadata": {},
     "output_type": "display_data"
    }
   ],
   "source": [
    "df_grouped = df.groupby(['mes', 'produtos'])['vendas'].sum().unstack()\n",
    "\n",
    "plt.figure(figsize=(10, 6))\n",
    "df_grouped.plot(kind='bar', stacked=False)\n",
    "\n",
    "plt.title(\"Vendas por Produto ao longo do Tempo\")\n",
    "plt.xlabel(\"Mês\")\n",
    "plt.ylabel(\"Vendas\")\n",
    "plt.xticks(rotation=45)\n",
    "plt.legend(title='Produto')\n",
    "plt.grid(axis='y')\n",
    "plt.tight_layout()\n",
    "plt.show()"
   ]
  },
  {
   "cell_type": "code",
   "execution_count": null,
   "metadata": {},
   "outputs": [],
   "source": [
    "tabela_vendas = {\n",
    "    'data': {'1/1/2024','1/2/2024','1/3/2024','1/4/2024','1/5/2024','1/1/2024','1/2/2024','1/3/2024','1/4/2024','1/5/2024','1/1/2024','1/2/2024','1/3/2024','1/4/2024','1/5/2024',},\n",
    "    'produto': {'ar frio', 'ar frio', 'ar frio','ar frio','ar frio', 'ventilador', 'ventilador', 'ventilador', 'ventilador', 'ventilador', 'ar quente', 'ar quente', 'ar quente', 'ar quente', 'ar quente'},\n",
    "    'quantidade': {100, 120, 130, 110, 150, 150, 140, 160, 130, 170, 80, 90, 100, 85, 95}\n",
    "}"
   ]
  },
  {
   "cell_type": "code",
   "execution_count": 65,
   "metadata": {},
   "outputs": [
    {
     "name": "stdout",
     "output_type": "stream",
     "text": [
      "Requirement already satisfied: pandas in c:\\python311\\lib\\site-packages (2.2.1)\n",
      "Requirement already satisfied: numpy<2,>=1.23.2 in c:\\python311\\lib\\site-packages (from pandas) (1.26.4)\n",
      "Requirement already satisfied: python-dateutil>=2.8.2 in c:\\python311\\lib\\site-packages (from pandas) (2.8.2)\n",
      "Requirement already satisfied: pytz>=2020.1 in c:\\python311\\lib\\site-packages (from pandas) (2024.1)\n",
      "Requirement already satisfied: tzdata>=2022.7 in c:\\python311\\lib\\site-packages (from pandas) (2024.1)\n",
      "Requirement already satisfied: six>=1.5 in c:\\python311\\lib\\site-packages (from python-dateutil>=2.8.2->pandas) (1.16.0)\n",
      "Note: you may need to restart the kernel to use updated packages.\n"
     ]
    },
    {
     "name": "stderr",
     "output_type": "stream",
     "text": [
      "\n",
      "[notice] A new release of pip is available: 23.1.2 -> 24.0\n",
      "[notice] To update, run: python.exe -m pip install --upgrade pip\n"
     ]
    }
   ],
   "source": [
    "pip install pandas"
   ]
  },
  {
   "cell_type": "code",
   "execution_count": 67,
   "metadata": {},
   "outputs": [],
   "source": [
    "import pandas as pd \n"
   ]
  },
  {
   "cell_type": "code",
   "execution_count": null,
   "metadata": {},
   "outputs": [],
   "source": []
  }
 ],
 "metadata": {
  "kernelspec": {
   "display_name": "Python 3",
   "language": "python",
   "name": "python3"
  },
  "language_info": {
   "codemirror_mode": {
    "name": "ipython",
    "version": 3
   },
   "file_extension": ".py",
   "mimetype": "text/x-python",
   "name": "python",
   "nbconvert_exporter": "python",
   "pygments_lexer": "ipython3",
   "version": "3.11.4"
  },
  "orig_nbformat": 4
 },
 "nbformat": 4,
 "nbformat_minor": 2
}
