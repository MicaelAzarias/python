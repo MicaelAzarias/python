{
 "cells": [
  {
   "cell_type": "code",
   "execution_count": 3,
   "metadata": {},
   "outputs": [],
   "source": [
    "class MyClass:\n",
    "    MyVar = 0"
   ]
  },
  {
   "cell_type": "code",
   "execution_count": 4,
   "metadata": {},
   "outputs": [],
   "source": [
    "MyInstance = MyClass()"
   ]
  },
  {
   "cell_type": "code",
   "execution_count": 5,
   "metadata": {},
   "outputs": [
    {
     "data": {
      "text/plain": [
       "__main__.MyClass"
      ]
     },
     "execution_count": 5,
     "metadata": {},
     "output_type": "execute_result"
    }
   ],
   "source": [
    "MyInstance.__class__"
   ]
  },
  {
   "cell_type": "code",
   "execution_count": 6,
   "metadata": {},
   "outputs": [],
   "source": [
    "class MyClass: \n",
    "    def SayHello():\n",
    "        print('Hello World!')"
   ]
  },
  {
   "cell_type": "code",
   "execution_count": 8,
   "metadata": {},
   "outputs": [
    {
     "name": "stdout",
     "output_type": "stream",
     "text": [
      "Hello World!\n"
     ]
    }
   ],
   "source": [
    "MyInstance = MyClass()\n",
    "MyClass.SayHello()"
   ]
  },
  {
   "cell_type": "code",
   "execution_count": 11,
   "metadata": {},
   "outputs": [],
   "source": [
    "class MyClass:\n",
    "    Greetings = \"\"\n",
    "# __init__ => metodo qeu python tem para iniciar os objetos criados por mim. vem acompnhado de 'self', começa com o self depois as variaveis que vão ser usadas\n",
    "    def __init__(self, Name = 'there'):\n",
    "        self.Greetings = Name + \"!\"\n",
    "    \n",
    "    def SayHello(self):\n",
    "        print(\"Hello {0}\".format(self.Greetings))"
   ]
  },
  {
   "cell_type": "code",
   "execution_count": 14,
   "metadata": {},
   "outputs": [
    {
     "name": "stdout",
     "output_type": "stream",
     "text": [
      "Hello there!\n"
     ]
    }
   ],
   "source": [
    "MyInstance = MyClass()\n",
    "MyInstance.SayHello()"
   ]
  },
  {
   "cell_type": "code",
   "execution_count": 13,
   "metadata": {},
   "outputs": [
    {
     "name": "stdout",
     "output_type": "stream",
     "text": [
      "Hello Ana!\n"
     ]
    }
   ],
   "source": [
    "MyInstance2 = MyClass('Ana')\n",
    "MyInstance2.SayHello()"
   ]
  },
  {
   "cell_type": "code",
   "execution_count": 16,
   "metadata": {},
   "outputs": [
    {
     "name": "stdout",
     "output_type": "stream",
     "text": [
      "Hello Harry\n"
     ]
    }
   ],
   "source": [
    "MyInstance.Greetings =\"Harry\"\n",
    "MyInstance.SayHello()"
   ]
  },
  {
   "cell_type": "code",
   "execution_count": null,
   "metadata": {},
   "outputs": [],
   "source": [
    "# classe cachorro\n",
    "# Nome e idade\n",
    "# Sentar e rolar "
   ]
  },
  {
   "cell_type": "code",
   "execution_count": 22,
   "metadata": {},
   "outputs": [],
   "source": [
    "class Cachorro:\n",
    "    def __init__(self, nome, idade):\n",
    "        self.nome = nome\n",
    "        self.idade = idade\n",
    "\n",
    "    def sentar(self):\n",
    "        # simula um cachorro sentando\n",
    "        print(f'{self.nome} está sentado.')\n",
    "    \n",
    "    def rolar(self):\n",
    "        # simular cachorro rolando \n",
    "        print(f'{self.nome} ele esta rolando')\n"
   ]
  },
  {
   "cell_type": "code",
   "execution_count": 24,
   "metadata": {},
   "outputs": [
    {
     "name": "stdout",
     "output_type": "stream",
     "text": [
      "o nome do cchorro1 é luffy\n",
      "a idade do cachorro2 é <bound method Cachorro.sentar of <__main__.Cachorro object at 0x000001A748D6CBD0>> anos\n",
      "o nome do cchorro1 é saitama\n",
      "a idade do cachorro2 é <bound method Cachorro.sentar of <__main__.Cachorro object at 0x000001A748D88E10>> anos\n",
      "luffy está sentado.\n",
      "luffy ele esta rolando\n"
     ]
    }
   ],
   "source": [
    "Cachorro1 = Cachorro ('luffy', 4)\n",
    "Cachorro2 = Cachorro ('saitama', 6)\n",
    "\n",
    "print(f'o nome do cchorro1 é {Cachorro1.nome}')\n",
    "print(f'a idade do cachorro2 é {Cachorro1.sentar} anos')\n",
    "\n",
    "print(f'o nome do cchorro1 é {Cachorro2.nome}')\n",
    "print(f'a idade do cachorro2 é {Cachorro2.sentar} anos')\n",
    "\n",
    "Cachorro1.sentar()\n",
    "Cachorro1.rolar()\n"
   ]
  },
  {
   "cell_type": "code",
   "execution_count": 25,
   "metadata": {},
   "outputs": [],
   "source": [
    "class Conta:\n",
    "    def __init__(self, quantia):\n",
    "        self.saldo = quantia\n",
    "\n",
    "    def deposito(self, quantia):\n",
    "        self.saldo = self.saldo + quantia \n",
    "        return self.saldo\n",
    "    \n",
    "    def levantamento(self, quantia):\n",
    "        if self.saldo - quantia >= 0:\n",
    "            self.saldo = self.saldo - quantia \n",
    "            return self.saldo\n",
    "        else:\n",
    "            print('saldo isuficente')\n",
    "\n",
    "    def consulta(self):\n",
    "        return self.saldo"
   ]
  },
  {
   "cell_type": "code",
   "execution_count": 27,
   "metadata": {},
   "outputs": [
    {
     "name": "stdout",
     "output_type": "stream",
     "text": [
      "Saldo inicial: 100\n",
      "Saldo apos deposito: 150\n",
      "Saldo apos levantamento: 120\n",
      "saldo isuficente\n"
     ]
    }
   ],
   "source": [
    "conta1 = Conta(100)\n",
    "print(\"Saldo inicial:\", conta1.consulta())\n",
    "\n",
    "conta1.deposito(50)\n",
    "print(\"Saldo apos deposito:\", conta1.consulta())\n",
    "\n",
    "conta1.levantamento(30)\n",
    "print(\"Saldo apos levantamento:\", conta1.consulta())\n",
    "\n",
    "conta1.levantamento(200)"
   ]
  },
  {
   "cell_type": "code",
   "execution_count": 28,
   "metadata": {},
   "outputs": [
    {
     "name": "stdout",
     "output_type": "stream",
     "text": [
      "nome do restaurante restaurante da maria\n",
      "tipo de cozinha italiana\n"
     ]
    }
   ],
   "source": [
    "class Restaurant:\n",
    "    def __init__(self, restaurant_nome ,cozinha_tipo):\n",
    "        self.restaurante_nome = restaurant_nome\n",
    "        self.cozinha_tipo = cozinha_tipo\n",
    "\n",
    "    def descrica_restaurante(self):\n",
    "        print('noem do restaurante', self.restaurante_nome)\n",
    "        print('tipo de cozinha', self.cozinha_tipo)\n",
    "\n",
    "    def open_restaurante(self):\n",
    "        print('o restaurante', self.restaurante_nome, 'esta aberto')\n",
    "\n",
    "restaurante = Restaurant('restaurante da maria', 'italiana')\n",
    "\n",
    "print('nome do restaurante', restaurante.restaurante_nome)\n",
    "print('tipo de cozinha', restaurante.cozinha_tipo)"
   ]
  },
  {
   "cell_type": "code",
   "execution_count": null,
   "metadata": {},
   "outputs": [],
   "source": [
    "class Veiculo:\n",
    "    def __init__(self, marca, modelo, ano):\n",
    "        self.marca = marca\n",
    "        self.modelo = modelo\n",
    "        self.ano = ano \n",
    "    \n",
    "    def ligar(self):\n",
    "        print('o carro esta:')\n",
    "\n",
    "    def desligar(self):"
   ]
  }
 ],
 "metadata": {
  "kernelspec": {
   "display_name": "Python 3",
   "language": "python",
   "name": "python3"
  },
  "language_info": {
   "codemirror_mode": {
    "name": "ipython",
    "version": 3
   },
   "file_extension": ".py",
   "mimetype": "text/x-python",
   "name": "python",
   "nbconvert_exporter": "python",
   "pygments_lexer": "ipython3",
   "version": "3.11.4"
  },
  "orig_nbformat": 4
 },
 "nbformat": 4,
 "nbformat_minor": 2
}
