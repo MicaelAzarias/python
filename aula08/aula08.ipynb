{
 "cells": [
  {
   "cell_type": "code",
   "execution_count": 2,
   "metadata": {},
   "outputs": [
    {
     "data": {
      "text/plain": [
       "<function __main__.<lambda>(x)>"
      ]
     },
     "execution_count": 2,
     "metadata": {},
     "output_type": "execute_result"
    }
   ],
   "source": [
    "quadrado = lambda x: x * x\n",
    "quadrado"
   ]
  },
  {
   "cell_type": "code",
   "execution_count": 3,
   "metadata": {},
   "outputs": [
    {
     "data": {
      "text/plain": [
       "<function __main__.<lambda>(x)>"
      ]
     },
     "execution_count": 3,
     "metadata": {},
     "output_type": "execute_result"
    }
   ],
   "source": [
    "quadrado = lambda x: x*2\n",
    "quadrado"
   ]
  },
  {
   "cell_type": "code",
   "execution_count": 4,
   "metadata": {},
   "outputs": [
    {
     "name": "stdout",
     "output_type": "stream",
     "text": [
      "nome: Micael\n",
      "Sobrenome: Azarias\n"
     ]
    }
   ],
   "source": [
    "nome_completo = lambda nome,sobrenome: f'nome: {nome}\\nSobrenome: {sobrenome}'\n",
    "print(nome_completo('Micael', 'Azarias'))"
   ]
  },
  {
   "cell_type": "code",
   "execution_count": 8,
   "metadata": {},
   "outputs": [
    {
     "name": "stdout",
     "output_type": "stream",
     "text": [
      "True\n",
      "False\n"
     ]
    }
   ],
   "source": [
    "# para ver se é booleano, se começar com g é verdadeiro se não é falso.\n",
    "comeca_com_g = lambda x:True if x.startswith('G') else False\n",
    "print(comeca_com_g('Gabriel'))\n",
    "print(comeca_com_g('Adalto'))"
   ]
  },
  {
   "cell_type": "code",
   "execution_count": 10,
   "metadata": {},
   "outputs": [
    {
     "name": "stdout",
     "output_type": "stream",
     "text": [
      "True\n",
      "False\n",
      "---------------\n",
      "True\n",
      "False\n"
     ]
    }
   ],
   "source": [
    "# verificar se é par ou impar, usando booleano\n",
    "impar = lambda x: True if x % 2 == 1 else False\n",
    "print(impar(1))\n",
    "print(impar(8))\n",
    "\n",
    "print(\"---------------\")\n",
    "\n",
    "# verifica se é par ou impar também mas partindo do par (o ! significa diferente)\n",
    "par = lambda x: True if x % 2 != 1 else False\n",
    "print(par(12))\n",
    "print(par(1))"
   ]
  },
  {
   "attachments": {},
   "cell_type": "markdown",
   "metadata": {},
   "source": [
    "O que é usada depois de lambda e antes dos \":\" serve para definir a função, que vai ser usada "
   ]
  },
  {
   "cell_type": "code",
   "execution_count": 11,
   "metadata": {},
   "outputs": [
    {
     "name": "stdout",
     "output_type": "stream",
     "text": [
      "criança\n",
      "adolecente\n",
      "adulto\n"
     ]
    }
   ],
   "source": [
    "classificar_idade = lambda idade: 'criança' if idade < 13 else ('adolecente' if idade < 18 else 'adulto')\n",
    "print(classificar_idade(12))\n",
    "print(classificar_idade(17))\n",
    "print(classificar_idade(30))"
   ]
  },
  {
   "cell_type": "code",
   "execution_count": 12,
   "metadata": {},
   "outputs": [
    {
     "name": "stdout",
     "output_type": "stream",
     "text": [
      "77.0\n",
      "55.666666666666664\n",
      "escala invalida\n"
     ]
    }
   ],
   "source": [
    "conv_temperatura = lambda temp, escala: (temp * 9/5) + 32 if escala == 'C' else (temp - 32) * 5/6 if escala == 'F' else 'escala invalida'\n",
    "print(conv_temperatura(25, \"C\"))\n",
    "print(conv_temperatura(98.8,\"F\"))\n",
    "print(conv_temperatura(100,\"K\"))"
   ]
  },
  {
   "cell_type": "code",
   "execution_count": 15,
   "metadata": {},
   "outputs": [
    {
     "name": "stdout",
     "output_type": "stream",
     "text": [
      " a função quadratica é 71\n"
     ]
    }
   ],
   "source": [
    "def const_quadratica(a, b, c):\n",
    "    \"\"\"retorna a função quadratica, a função f(x) = ax**2 + bx + c\"\"\"\n",
    "    return lambda x: a*x**2 + b*x + c\n",
    "\n",
    "f = const_quadratica(2, 3, 6)\n",
    "\n",
    "print(f' a função quadratica é {f(5)}')"
   ]
  },
  {
   "cell_type": "code",
   "execution_count": 31,
   "metadata": {},
   "outputs": [
    {
     "name": "stdout",
     "output_type": "stream",
     "text": [
      "A media ponderada destes pesos é 2.6\n"
     ]
    }
   ],
   "source": [
    "# Ex1\n",
    "def media_ponderada(peso1, peso2):\n",
    "    return lambda x,y: (x * peso1 + y * peso2)/(peso1 + peso2)\n",
    "\n",
    "valores = media_ponderada(2, 3)\n",
    "a = int(input('coloque o valor de X:'))\n",
    "b = int(input('coloque o valor de Y:'))\n",
    "##                                        aquei em 5, 9 funciona como os valores de x e y \n",
    "print(f'A media ponderada destes pesos é {valores(a, b)}')"
   ]
  },
  {
   "cell_type": "code",
   "execution_count": 19,
   "metadata": {},
   "outputs": [
    {
     "name": "stdout",
     "output_type": "stream",
     "text": [
      "30\n"
     ]
    }
   ],
   "source": [
    "# Ex2 da para ser feito dessa forma \n",
    "def perimetro_retangulo(A, L):\n",
    "    return 2*(A + L)\n",
    "\n",
    "v = perimetro_retangulo(5, 10)\n",
    "print(v)\n"
   ]
  },
  {
   "cell_type": "code",
   "execution_count": 35,
   "metadata": {},
   "outputs": [
    {
     "data": {
      "text/plain": [
       "30"
      ]
     },
     "execution_count": 35,
     "metadata": {},
     "output_type": "execute_result"
    }
   ],
   "source": [
    "# ou usando o lambda\n",
    "def criar_perimetro(largura, altura):\n",
    "    return lambda: 2 * (largura * altura)\n",
    "\n",
    "calcular_perimetro_ret = criar_perimetro(5,3)\n",
    "resultado = calcular_perimetro_ret()\n",
    "resultado"
   ]
  },
  {
   "cell_type": "code",
   "execution_count": 34,
   "metadata": {},
   "outputs": [
    {
     "name": "stdout",
     "output_type": "stream",
     "text": [
      "6\n"
     ]
    }
   ],
   "source": [
    "# Ex3\n",
    "def volume_retangulo():\n",
    "    return lambda b,l,h: b * l * h\n",
    "\n",
    "X = volume_retangulo()\n",
    "print(X(1,2,3))\n",
    "\n"
   ]
  },
  {
   "cell_type": "code",
   "execution_count": 36,
   "metadata": {},
   "outputs": [
    {
     "data": {
      "text/plain": [
       "100"
      ]
     },
     "execution_count": 36,
     "metadata": {},
     "output_type": "execute_result"
    }
   ],
   "source": [
    "# Ex4\n",
    "def funcao_newton(massa, aceleracao):\n",
    "    return lambda: massa * aceleracao\n",
    "\n",
    "calcular_newton = funcao_newton(10, 10)\n",
    "resultado = calcular_newton()\n",
    "resultado"
   ]
  },
  {
   "cell_type": "code",
   "execution_count": null,
   "metadata": {},
   "outputs": [],
   "source": [
    "# exercicios:\n",
    "# Ex1 - Crie uma função dentro de uma função para calcular a media ponderada de dois numeros\n",
    "# Ex2 - Crie uma função para calcular o perimetro de um retângulo com base na altura e largura \n",
    "# Ex3 - Crie uma função para calcula o volume de um retângulo.  V = B x L x h\n",
    "# Ex4 - Crie um afunção para calcular a equação de Newton: F = M * a, dando os dois parametro m e a na função.\n",
    "# Ex5 - Calcular a area de diferentes formas geometricas ultilizando a função def lambda (quadrado, retangulo, triangulo e circulo)"
   ]
  },
  {
   "cell_type": "code",
   "execution_count": 41,
   "metadata": {},
   "outputs": [
    {
     "name": "stdout",
     "output_type": "stream",
     "text": [
      "area do quadrado 8\n",
      "area do retangulo 40\n",
      "area do circulo 50.24\n",
      "area do triangulo 40.0\n"
     ]
    }
   ],
   "source": [
    "def area_diferentes(forma, **geometrica): #**geometrica, serve para chamar cada forma geometrica dentro da area funções, seria igual a zip. ELe desempacota.\n",
    "    area_funcoes = {\n",
    "        'quadrado': lambda lado: lado*2,\n",
    "        'retangulo': lambda base, altura: base * altura,\n",
    "        'circulo': lambda raio: 3.14 * raio**2,\n",
    "        'triangulo': lambda base, altura: (base * altura)/2\n",
    "    }\n",
    "    if forma in area_funcoes:\n",
    "        return area_funcoes[forma](**geometrica)\n",
    "    else:\n",
    "        return 'Forma geometrica não identificada.'\n",
    "    \n",
    "\n",
    "print('area do quadrado', area_diferentes('quadrado', lado = 4))\n",
    "print('area do retangulo', area_diferentes('retangulo', base = 4, altura = 10))\n",
    "print('area do circulo', area_diferentes('circulo', raio = 4))\n",
    "print('area do triangulo', area_diferentes('triangulo', base = 4, altura = 20))"
   ]
  },
  {
   "cell_type": "code",
   "execution_count": 42,
   "metadata": {},
   "outputs": [
    {
     "data": {
      "text/plain": [
       "[2, 4, 5, 7]"
      ]
     },
     "execution_count": 42,
     "metadata": {},
     "output_type": "execute_result"
    }
   ],
   "source": [
    "numeros = [2, 5, 7, 4]\n",
    "ordena = sorted(numeros)\n",
    "ordena"
   ]
  },
  {
   "cell_type": "code",
   "execution_count": 43,
   "metadata": {},
   "outputs": [
    {
     "data": {
      "text/plain": [
       "['a', 'b', 'c', 'd']"
      ]
     },
     "execution_count": 43,
     "metadata": {},
     "output_type": "execute_result"
    }
   ],
   "source": [
    "palavra = ['a', 'b', 'c', 'd']\n",
    "ordena = sorted(palavra)\n",
    "ordena"
   ]
  },
  {
   "cell_type": "code",
   "execution_count": 44,
   "metadata": {},
   "outputs": [
    {
     "name": "stdout",
     "output_type": "stream",
     "text": [
      "['amora', 'banana', 'damasco', 'carambola']\n"
     ]
    }
   ],
   "source": [
    "frutas = ['amora', 'banana', 'carambola', 'damasco']\n",
    "ordena = sorted(frutas, key=lambda fruta: len(fruta)) # ele ordena mas por numero de letars em cada palvra ai ele ordena do menor para o maior\n",
    "print(ordena)"
   ]
  },
  {
   "cell_type": "code",
   "execution_count": 50,
   "metadata": {},
   "outputs": [
    {
     "name": "stdout",
     "output_type": "stream",
     "text": [
      "[(2, 8), (2, 1), (3, 2), (4, 3)]\n",
      "[(2, 1), (3, 2), (4, 3), (2, 8)]\n"
     ]
    }
   ],
   "source": [
    "# ordenação de uma lista de tuplas pelo primeiro ou degundo elemento. \n",
    "\n",
    "tupla=[(3,2),(2,8),(4,3),(2,1)]\n",
    "ordena_tupla_do_primeiro = sorted(tupla, key=lambda tupla: tupla[0])\n",
    "ordena_tupla_do_segundo = sorted(tupla, key=lambda tupla: tupla[1])\n",
    "print(ordena_tupla_do_primeiro)\n",
    "print(ordena_tupla_do_segundo)"
   ]
  },
  {
   "cell_type": "code",
   "execution_count": null,
   "metadata": {},
   "outputs": [],
   "source": [
    "# Exercicio\n",
    "# Cria um programa para ordenar a lista abaixo pelo primeiro numero e depois pelo nome.\n",
    "# tupla = [(10,'ana'), (8,'mark'), (4,'mary anne'), (5,'marcelo')]"
   ]
  },
  {
   "cell_type": "code",
   "execution_count": 52,
   "metadata": {},
   "outputs": [
    {
     "name": "stdout",
     "output_type": "stream",
     "text": [
      "[(4, 'mary anne'), (5, 'marcelo'), (8, 'mark'), (10, 'ana')]\n",
      "[(10, 'ana'), (5, 'marcelo'), (8, 'mark'), (4, 'mary anne')]\n"
     ]
    }
   ],
   "source": [
    "tupla = [(10,'ana'), (8,'mark'), (4,'mary anne'), (5,'marcelo')]\n",
    "ordena_numero = sorted(tupla, key=lambda tupla: tupla[0])\n",
    "ordenar_nome = sorted(tupla, key=lambda tupla: tupla[1])\n",
    "\n",
    "print(ordena_numero)\n",
    "print(ordenar_nome)"
   ]
  },
  {
   "cell_type": "code",
   "execution_count": null,
   "metadata": {},
   "outputs": [],
   "source": [
    "#exercicios \n",
    "\n",
    "# 1 - Gerenciamento de estoque: crie um programa para apresentar a relação de preço x produto\n",
    "# usando sorted e lambda.\n",
    "\n",
    "# 'camieta': 100, 20\n",
    "# 'calça': 50, 40 \n",
    "# 'tenis': 30,100 "
   ]
  },
  {
   "cell_type": "code",
   "execution_count": 54,
   "metadata": {},
   "outputs": [
    {
     "ename": "TypeError",
     "evalue": "'function' object is not subscriptable",
     "output_type": "error",
     "traceback": [
      "\u001b[1;31m---------------------------------------------------------------------------\u001b[0m",
      "\u001b[1;31mTypeError\u001b[0m                                 Traceback (most recent call last)",
      "Cell \u001b[1;32mIn[54], line 12\u001b[0m\n\u001b[0;32m      9\u001b[0m     \u001b[39melse\u001b[39;00m:\n\u001b[0;32m     10\u001b[0m         \u001b[39mreturn\u001b[39;00m \u001b[39m'\u001b[39m\u001b[39mnão tem no estoque\u001b[39m\u001b[39m'\u001b[39m\n\u001b[1;32m---> 12\u001b[0m \u001b[39mprint\u001b[39m(\u001b[39m'\u001b[39m\u001b[39ma multiplicação das\u001b[39m\u001b[39m'\u001b[39m, calcular_estoque(\u001b[39m'\u001b[39;49m\u001b[39mcamiseta\u001b[39;49m\u001b[39m'\u001b[39;49m, a \u001b[39m=\u001b[39;49m \u001b[39m100\u001b[39;49m, b \u001b[39m=\u001b[39;49m \u001b[39m20\u001b[39;49m))\n\u001b[0;32m     13\u001b[0m \u001b[39mprint\u001b[39m(\u001b[39m'\u001b[39m\u001b[39ma multiplicação das\u001b[39m\u001b[39m'\u001b[39m, calcular_estoque(\u001b[39m'\u001b[39m\u001b[39mcalça\u001b[39m\u001b[39m'\u001b[39m, c \u001b[39m=\u001b[39m \u001b[39m50\u001b[39m, d \u001b[39m=\u001b[39m \u001b[39m40\u001b[39m))\n\u001b[0;32m     14\u001b[0m \u001b[39mprint\u001b[39m(\u001b[39m'\u001b[39m\u001b[39ma multiplicação das\u001b[39m\u001b[39m'\u001b[39m, calcular_estoque(\u001b[39m'\u001b[39m\u001b[39mtenis\u001b[39m\u001b[39m'\u001b[39m, e \u001b[39m=\u001b[39m \u001b[39m30\u001b[39m, f \u001b[39m=\u001b[39m \u001b[39m100\u001b[39m))\n",
      "Cell \u001b[1;32mIn[54], line 8\u001b[0m, in \u001b[0;36mcalcular_estoque\u001b[1;34m(estoque, **depois)\u001b[0m\n\u001b[0;32m      2\u001b[0m mult_estoque \u001b[39m=\u001b[39m {\n\u001b[0;32m      3\u001b[0m     \u001b[39m'\u001b[39m\u001b[39mcamiseta\u001b[39m\u001b[39m'\u001b[39m: \u001b[39mlambda\u001b[39;00m a, b: a \u001b[39m*\u001b[39m b,\n\u001b[0;32m      4\u001b[0m     \u001b[39m'\u001b[39m\u001b[39mcalça\u001b[39m\u001b[39m'\u001b[39m: \u001b[39mlambda\u001b[39;00m c, d: c \u001b[39m*\u001b[39m d, \n\u001b[0;32m      5\u001b[0m     \u001b[39m'\u001b[39m\u001b[39mtenis\u001b[39m\u001b[39m'\u001b[39m: \u001b[39mlambda\u001b[39;00m e, f: e \u001b[39m*\u001b[39m f  \n\u001b[0;32m      6\u001b[0m }\n\u001b[0;32m      7\u001b[0m \u001b[39mif\u001b[39;00m estoque \u001b[39min\u001b[39;00m mult_estoque:\n\u001b[1;32m----> 8\u001b[0m     \u001b[39mreturn\u001b[39;00m calcular_estoque[estoque](\u001b[39m*\u001b[39m\u001b[39m*\u001b[39mdepois)\n\u001b[0;32m      9\u001b[0m \u001b[39melse\u001b[39;00m:\n\u001b[0;32m     10\u001b[0m     \u001b[39mreturn\u001b[39;00m \u001b[39m'\u001b[39m\u001b[39mnão tem no estoque\u001b[39m\u001b[39m'\u001b[39m\n",
      "\u001b[1;31mTypeError\u001b[0m: 'function' object is not subscriptable"
     ]
    }
   ],
   "source": [
    "\n",
    "def calcular_estoque(estoque, **depois):\n",
    "    mult_estoque = {\n",
    "        'camiseta': lambda a, b: a * b,\n",
    "        'calça': lambda c, d: c * d, \n",
    "        'tenis': lambda e, f: e * f  \n",
    "    }\n",
    "    if estoque in mult_estoque:\n",
    "        return calcular_estoque[estoque](**depois)\n",
    "    else:\n",
    "        return 'não tem no estoque'\n",
    "\n",
    "print('a multiplicação das', calcular_estoque('camiseta', a = 100, b = 20))\n",
    "print('a multiplicação das', calcular_estoque('calça', c = 50, d = 40))\n",
    "print('a multiplicação das', calcular_estoque('tenis', e = 30, f = 100))"
   ]
  },
  {
   "cell_type": "code",
   "execution_count": 57,
   "metadata": {},
   "outputs": [
    {
     "name": "stdout",
     "output_type": "stream",
     "text": [
      "tenis - valor total em estoque 3000\n",
      "camiseta - valor total em estoque 2000\n",
      "calça - valor total em estoque 1500\n"
     ]
    }
   ],
   "source": [
    "produtos = [('camiseta', 100, 20),\n",
    "        ('calça', 50, 30), \n",
    "        ('tenis', 30,100) \n",
    "]\n",
    "produtos_ordenado = sorted(produtos, key= lambda produto: produto[1]*produto[2], reverse=True)\n",
    "\n",
    "for produto in produtos_ordenado:\n",
    "    print(f'{produto[0]} - valor total em estoque {produto[1]*produto[2]}')"
   ]
  }
 ],
 "metadata": {
  "kernelspec": {
   "display_name": "Python 3",
   "language": "python",
   "name": "python3"
  },
  "language_info": {
   "codemirror_mode": {
    "name": "ipython",
    "version": 3
   },
   "file_extension": ".py",
   "mimetype": "text/x-python",
   "name": "python",
   "nbconvert_exporter": "python",
   "pygments_lexer": "ipython3",
   "version": "3.11.4"
  },
  "orig_nbformat": 4
 },
 "nbformat": 4,
 "nbformat_minor": 2
}
