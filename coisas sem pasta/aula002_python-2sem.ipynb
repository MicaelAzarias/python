{
 "cells": [
  {
   "cell_type": "code",
   "execution_count": 11,
   "metadata": {},
   "outputs": [
    {
     "name": "stdout",
     "output_type": "stream",
     "text": [
      "Collecting pandasNote: you may need to restart the kernel to use updated packages.\n",
      "\n",
      "  Downloading pandas-2.2.0-cp311-cp311-win_amd64.whl (11.6 MB)\n",
      "                                              0.0/11.6 MB ? eta -:--:--\n",
      "     --                                       0.6/11.6 MB 12.6 MB/s eta 0:00:01\n",
      "     ----                                     1.2/11.6 MB 12.3 MB/s eta 0:00:01\n",
      "     -----                                    1.7/11.6 MB 11.0 MB/s eta 0:00:01\n",
      "     -------                                  2.3/11.6 MB 11.2 MB/s eta 0:00:01\n",
      "     ---------                                2.8/11.6 MB 12.0 MB/s eta 0:00:01\n",
      "     ---------                                2.8/11.6 MB 12.0 MB/s eta 0:00:01\n",
      "     ---------                                2.8/11.6 MB 12.0 MB/s eta 0:00:01\n",
      "     ---------                                2.8/11.6 MB 12.0 MB/s eta 0:00:01\n",
      "     ---------                                2.8/11.6 MB 12.0 MB/s eta 0:00:01\n",
      "     ---------                                2.8/11.6 MB 12.0 MB/s eta 0:00:01\n",
      "     ---------                                2.8/11.6 MB 12.0 MB/s eta 0:00:01\n",
      "     ---------                                2.8/11.6 MB 12.0 MB/s eta 0:00:01\n",
      "     ---------                                2.8/11.6 MB 12.0 MB/s eta 0:00:01\n",
      "     ---------                                2.8/11.6 MB 12.0 MB/s eta 0:00:01\n",
      "     ---------                                2.8/11.6 MB 12.0 MB/s eta 0:00:01\n",
      "     ---------                                2.8/11.6 MB 12.0 MB/s eta 0:00:01\n",
      "     ---------                                2.8/11.6 MB 12.0 MB/s eta 0:00:01\n",
      "     ---------                                2.8/11.6 MB 12.0 MB/s eta 0:00:01\n",
      "     ---------                                2.8/11.6 MB 12.0 MB/s eta 0:00:01\n",
      "     -----------                              3.3/11.6 MB 3.5 MB/s eta 0:00:03\n",
      "     -------------                            3.8/11.6 MB 3.9 MB/s eta 0:00:02\n",
      "     ---------------                          4.4/11.6 MB 4.3 MB/s eta 0:00:02\n",
      "     ----------------                         4.6/11.6 MB 4.4 MB/s eta 0:00:02\n",
      "     ----------------                         4.6/11.6 MB 4.4 MB/s eta 0:00:02\n",
      "     ----------------                         4.6/11.6 MB 4.4 MB/s eta 0:00:02\n",
      "     ----------------                         4.6/11.6 MB 4.4 MB/s eta 0:00:02\n",
      "     ----------------                         4.6/11.6 MB 4.4 MB/s eta 0:00:02\n",
      "     ----------------                         4.6/11.6 MB 4.4 MB/s eta 0:00:02\n",
      "     ----------------                         4.6/11.6 MB 4.4 MB/s eta 0:00:02\n",
      "     ----------------                         4.6/11.6 MB 4.4 MB/s eta 0:00:02\n",
      "     ----------------                         4.6/11.6 MB 4.4 MB/s eta 0:00:02\n",
      "     ----------------                         4.6/11.6 MB 4.4 MB/s eta 0:00:02\n",
      "     ----------------                         4.6/11.6 MB 4.4 MB/s eta 0:00:02\n",
      "     ----------------                         4.6/11.6 MB 4.4 MB/s eta 0:00:02\n",
      "     ----------------                         4.6/11.6 MB 4.4 MB/s eta 0:00:02\n",
      "     ----------------                         4.6/11.6 MB 4.4 MB/s eta 0:00:02\n",
      "     -----------------                        5.0/11.6 MB 2.8 MB/s eta 0:00:03\n",
      "     -------------------                      5.5/11.6 MB 3.1 MB/s eta 0:00:02\n",
      "     --------------------                     6.1/11.6 MB 3.3 MB/s eta 0:00:02\n",
      "     ----------------------                   6.5/11.6 MB 3.5 MB/s eta 0:00:02\n",
      "     ----------------------                   6.5/11.6 MB 3.5 MB/s eta 0:00:02\n",
      "     ----------------------                   6.5/11.6 MB 3.5 MB/s eta 0:00:02\n",
      "     ----------------------                   6.5/11.6 MB 3.5 MB/s eta 0:00:02\n",
      "     ----------------------                   6.5/11.6 MB 3.5 MB/s eta 0:00:02\n",
      "     ----------------------                   6.5/11.6 MB 3.5 MB/s eta 0:00:02\n",
      "     ----------------------                   6.5/11.6 MB 3.5 MB/s eta 0:00:02\n",
      "     ----------------------                   6.5/11.6 MB 3.5 MB/s eta 0:00:02\n",
      "     ----------------------                   6.5/11.6 MB 3.5 MB/s eta 0:00:02\n",
      "     ----------------------                   6.5/11.6 MB 3.5 MB/s eta 0:00:02\n",
      "     ----------------------                   6.5/11.6 MB 3.5 MB/s eta 0:00:02\n",
      "     ----------------------                   6.5/11.6 MB 3.5 MB/s eta 0:00:02\n",
      "     ----------------------                   6.5/11.6 MB 3.5 MB/s eta 0:00:02\n",
      "     ----------------------                   6.5/11.6 MB 3.5 MB/s eta 0:00:02\n",
      "     -----------------------                  6.7/11.6 MB 2.6 MB/s eta 0:00:02\n",
      "     ------------------------                 7.2/11.6 MB 2.8 MB/s eta 0:00:02\n",
      "     --------------------------               7.6/11.6 MB 2.9 MB/s eta 0:00:02\n",
      "     ---------------------------              7.9/11.6 MB 2.9 MB/s eta 0:00:02\n",
      "     ----------------------------             8.3/11.6 MB 3.1 MB/s eta 0:00:02\n",
      "     ----------------------------             8.3/11.6 MB 3.1 MB/s eta 0:00:02\n",
      "     ----------------------------             8.3/11.6 MB 3.1 MB/s eta 0:00:02\n",
      "     ----------------------------             8.3/11.6 MB 3.1 MB/s eta 0:00:02\n",
      "     ----------------------------             8.3/11.6 MB 3.1 MB/s eta 0:00:02\n",
      "     ----------------------------             8.3/11.6 MB 3.1 MB/s eta 0:00:02\n",
      "     ----------------------------             8.3/11.6 MB 3.1 MB/s eta 0:00:02\n",
      "     ----------------------------             8.3/11.6 MB 3.1 MB/s eta 0:00:02\n",
      "     ----------------------------             8.3/11.6 MB 3.1 MB/s eta 0:00:02\n",
      "     ----------------------------             8.3/11.6 MB 3.1 MB/s eta 0:00:02\n",
      "     ----------------------------             8.3/11.6 MB 3.1 MB/s eta 0:00:02\n",
      "     ----------------------------             8.3/11.6 MB 3.1 MB/s eta 0:00:02\n",
      "     ----------------------------             8.3/11.6 MB 3.1 MB/s eta 0:00:02\n",
      "     ----------------------------             8.3/11.6 MB 3.1 MB/s eta 0:00:02\n",
      "     -----------------------------            8.5/11.6 MB 2.5 MB/s eta 0:00:02\n",
      "     ------------------------------           8.8/11.6 MB 2.6 MB/s eta 0:00:02\n",
      "     -------------------------------          9.2/11.6 MB 2.6 MB/s eta 0:00:01\n",
      "     ---------------------------------        9.7/11.6 MB 2.8 MB/s eta 0:00:01\n",
      "     -----------------------------------      10.2/11.6 MB 2.8 MB/s eta 0:00:01\n",
      "     -----------------------------------      10.2/11.6 MB 2.8 MB/s eta 0:00:01\n",
      "     -----------------------------------      10.2/11.6 MB 2.8 MB/s eta 0:00:01\n",
      "     -----------------------------------      10.2/11.6 MB 2.8 MB/s eta 0:00:01\n",
      "     -----------------------------------      10.2/11.6 MB 2.8 MB/s eta 0:00:01\n",
      "     -----------------------------------      10.2/11.6 MB 2.8 MB/s eta 0:00:01\n",
      "     -----------------------------------      10.2/11.6 MB 2.8 MB/s eta 0:00:01\n",
      "     -----------------------------------      10.2/11.6 MB 2.8 MB/s eta 0:00:01\n",
      "     -----------------------------------      10.2/11.6 MB 2.8 MB/s eta 0:00:01\n",
      "     -----------------------------------      10.2/11.6 MB 2.8 MB/s eta 0:00:01\n",
      "     -----------------------------------      10.2/11.6 MB 2.8 MB/s eta 0:00:01\n",
      "     -----------------------------------      10.2/11.6 MB 2.8 MB/s eta 0:00:01\n",
      "     -----------------------------------      10.2/11.6 MB 2.8 MB/s eta 0:00:01\n",
      "     -----------------------------------      10.2/11.6 MB 2.8 MB/s eta 0:00:01\n",
      "     -----------------------------------      10.3/11.6 MB 2.4 MB/s eta 0:00:01\n",
      "     ------------------------------------     10.7/11.6 MB 2.4 MB/s eta 0:00:01\n",
      "     --------------------------------------   11.2/11.6 MB 2.4 MB/s eta 0:00:01\n",
      "     ---------------------------------------  11.6/11.6 MB 2.4 MB/s eta 0:00:01\n",
      "     ---------------------------------------  11.6/11.6 MB 2.4 MB/s eta 0:00:01\n",
      "     ---------------------------------------- 11.6/11.6 MB 2.4 MB/s eta 0:00:00\n",
      "Collecting numpy<2,>=1.23.2 (from pandas)\n",
      "  Downloading numpy-1.26.4-cp311-cp311-win_amd64.whl (15.8 MB)\n",
      "                                              0.0/15.8 MB ? eta -:--:--\n",
      "     -                                        0.5/15.8 MB 10.7 MB/s eta 0:00:02\n",
      "     --                                       1.1/15.8 MB 11.2 MB/s eta 0:00:02\n",
      "     ----                                     1.6/15.8 MB 11.5 MB/s eta 0:00:02\n",
      "     ----                                     1.8/15.8 MB 11.6 MB/s eta 0:00:02\n",
      "     ----                                     1.8/15.8 MB 11.6 MB/s eta 0:00:02\n",
      "     ----                                     1.8/15.8 MB 11.6 MB/s eta 0:00:02\n",
      "     ----                                     1.8/15.8 MB 11.6 MB/s eta 0:00:02\n",
      "     ----                                     1.8/15.8 MB 11.6 MB/s eta 0:00:02\n",
      "     ----                                     1.8/15.8 MB 11.6 MB/s eta 0:00:02\n",
      "     ----                                     1.8/15.8 MB 11.6 MB/s eta 0:00:02\n",
      "     ----                                     1.8/15.8 MB 11.6 MB/s eta 0:00:02\n",
      "     ----                                     1.8/15.8 MB 11.6 MB/s eta 0:00:02\n",
      "     ----                                     1.8/15.8 MB 11.6 MB/s eta 0:00:02\n",
      "     ----                                     1.8/15.8 MB 11.6 MB/s eta 0:00:02\n",
      "     ----                                     1.8/15.8 MB 11.6 MB/s eta 0:00:02\n",
      "     ----                                     1.8/15.8 MB 11.6 MB/s eta 0:00:02\n",
      "     ----                                     1.8/15.8 MB 11.6 MB/s eta 0:00:02\n",
      "     -----                                    2.2/15.8 MB 2.6 MB/s eta 0:00:06\n",
      "     ------                                   2.8/15.8 MB 3.1 MB/s eta 0:00:05\n",
      "     --------                                 3.3/15.8 MB 3.5 MB/s eta 0:00:04\n",
      "     ---------                                3.7/15.8 MB 3.8 MB/s eta 0:00:04\n",
      "     ---------                                3.7/15.8 MB 3.8 MB/s eta 0:00:04\n",
      "     ---------                                3.7/15.8 MB 3.8 MB/s eta 0:00:04\n",
      "     ---------                                3.7/15.8 MB 3.8 MB/s eta 0:00:04\n",
      "     ---------                                3.7/15.8 MB 3.8 MB/s eta 0:00:04\n",
      "     ---------                                3.7/15.8 MB 3.8 MB/s eta 0:00:04\n",
      "     ---------                                3.7/15.8 MB 3.8 MB/s eta 0:00:04\n",
      "     ---------                                3.7/15.8 MB 3.8 MB/s eta 0:00:04\n",
      "     ---------                                3.7/15.8 MB 3.8 MB/s eta 0:00:04\n",
      "     ---------                                3.7/15.8 MB 3.8 MB/s eta 0:00:04\n",
      "     ---------                                3.7/15.8 MB 3.8 MB/s eta 0:00:04\n",
      "     ---------                                3.7/15.8 MB 3.8 MB/s eta 0:00:04\n",
      "     ---------                                3.7/15.8 MB 3.8 MB/s eta 0:00:04\n",
      "     ---------                                3.7/15.8 MB 3.8 MB/s eta 0:00:04\n",
      "     ---------                                3.9/15.8 MB 2.4 MB/s eta 0:00:05\n",
      "     -----------                              4.4/15.8 MB 2.6 MB/s eta 0:00:05\n",
      "     ------------                             5.0/15.8 MB 2.9 MB/s eta 0:00:04\n",
      "     -------------                            5.5/15.8 MB 3.1 MB/s eta 0:00:04\n",
      "     -------------                            5.5/15.8 MB 3.1 MB/s eta 0:00:04\n",
      "     -------------                            5.5/15.8 MB 3.1 MB/s eta 0:00:04\n",
      "     -------------                            5.5/15.8 MB 3.1 MB/s eta 0:00:04\n",
      "     -------------                            5.5/15.8 MB 3.1 MB/s eta 0:00:04\n",
      "     -------------                            5.5/15.8 MB 3.1 MB/s eta 0:00:04\n",
      "     -------------                            5.5/15.8 MB 3.1 MB/s eta 0:00:04\n",
      "     -------------                            5.5/15.8 MB 3.1 MB/s eta 0:00:04\n",
      "     -------------                            5.5/15.8 MB 3.1 MB/s eta 0:00:04\n",
      "     -------------                            5.5/15.8 MB 3.1 MB/s eta 0:00:04\n",
      "     -------------                            5.5/15.8 MB 3.1 MB/s eta 0:00:04\n",
      "     -------------                            5.5/15.8 MB 3.1 MB/s eta 0:00:04\n",
      "     -------------                            5.5/15.8 MB 3.1 MB/s eta 0:00:04\n",
      "     -------------                            5.5/15.8 MB 3.1 MB/s eta 0:00:04\n",
      "     --------------                           5.6/15.8 MB 2.3 MB/s eta 0:00:05\n",
      "     ---------------                          6.1/15.8 MB 2.5 MB/s eta 0:00:04\n",
      "     ----------------                         6.7/15.8 MB 2.6 MB/s eta 0:00:04\n",
      "     ------------------                       7.2/15.8 MB 2.8 MB/s eta 0:00:04\n",
      "     ------------------                       7.3/15.8 MB 2.8 MB/s eta 0:00:03\n",
      "     ------------------                       7.3/15.8 MB 2.8 MB/s eta 0:00:03\n",
      "     ------------------                       7.3/15.8 MB 2.8 MB/s eta 0:00:03\n",
      "     ------------------                       7.3/15.8 MB 2.8 MB/s eta 0:00:03\n",
      "     ------------------                       7.3/15.8 MB 2.8 MB/s eta 0:00:03\n",
      "     ------------------                       7.3/15.8 MB 2.8 MB/s eta 0:00:03\n",
      "     ------------------                       7.3/15.8 MB 2.8 MB/s eta 0:00:03\n",
      "     ------------------                       7.3/15.8 MB 2.8 MB/s eta 0:00:03\n",
      "     ------------------                       7.3/15.8 MB 2.8 MB/s eta 0:00:03\n",
      "     ------------------                       7.3/15.8 MB 2.8 MB/s eta 0:00:03\n",
      "     ------------------                       7.3/15.8 MB 2.8 MB/s eta 0:00:03\n",
      "     ------------------                       7.3/15.8 MB 2.8 MB/s eta 0:00:03\n",
      "     ------------------                       7.3/15.8 MB 2.8 MB/s eta 0:00:03\n",
      "     ------------------                       7.3/15.8 MB 2.8 MB/s eta 0:00:03\n",
      "     -------------------                      7.7/15.8 MB 2.4 MB/s eta 0:00:04\n",
      "     --------------------                     8.3/15.8 MB 2.5 MB/s eta 0:00:04\n",
      "     ----------------------                   8.8/15.8 MB 2.6 MB/s eta 0:00:03\n",
      "     -----------------------                  9.2/15.8 MB 2.7 MB/s eta 0:00:03\n",
      "     -----------------------                  9.2/15.8 MB 2.7 MB/s eta 0:00:03\n",
      "     -----------------------                  9.2/15.8 MB 2.7 MB/s eta 0:00:03\n",
      "     -----------------------                  9.2/15.8 MB 2.7 MB/s eta 0:00:03\n",
      "     -----------------------                  9.2/15.8 MB 2.7 MB/s eta 0:00:03\n",
      "     -----------------------                  9.2/15.8 MB 2.7 MB/s eta 0:00:03\n",
      "     -----------------------                  9.2/15.8 MB 2.7 MB/s eta 0:00:03\n",
      "     -----------------------                  9.2/15.8 MB 2.7 MB/s eta 0:00:03\n",
      "     -----------------------                  9.2/15.8 MB 2.7 MB/s eta 0:00:03\n",
      "     -----------------------                  9.2/15.8 MB 2.7 MB/s eta 0:00:03\n",
      "     -----------------------                  9.2/15.8 MB 2.7 MB/s eta 0:00:03\n",
      "     -----------------------                  9.2/15.8 MB 2.7 MB/s eta 0:00:03\n",
      "     -----------------------                  9.2/15.8 MB 2.7 MB/s eta 0:00:03\n",
      "     -----------------------                  9.2/15.8 MB 2.7 MB/s eta 0:00:03\n",
      "     ------------------------                 9.5/15.8 MB 2.3 MB/s eta 0:00:03\n",
      "     -------------------------                10.0/15.8 MB 2.4 MB/s eta 0:00:03\n",
      "     --------------------------               10.5/15.8 MB 2.5 MB/s eta 0:00:03\n",
      "     ---------------------------              11.0/15.8 MB 2.5 MB/s eta 0:00:02\n",
      "     ---------------------------              11.0/15.8 MB 2.5 MB/s eta 0:00:02\n",
      "     ---------------------------              11.0/15.8 MB 2.5 MB/s eta 0:00:02\n",
      "     ---------------------------              11.0/15.8 MB 2.5 MB/s eta 0:00:02\n",
      "     ---------------------------              11.0/15.8 MB 2.5 MB/s eta 0:00:02\n",
      "     ---------------------------              11.0/15.8 MB 2.5 MB/s eta 0:00:02\n",
      "     ---------------------------              11.0/15.8 MB 2.5 MB/s eta 0:00:02\n",
      "     ---------------------------              11.0/15.8 MB 2.5 MB/s eta 0:00:02\n",
      "     ---------------------------              11.0/15.8 MB 2.5 MB/s eta 0:00:02\n",
      "     ---------------------------              11.0/15.8 MB 2.5 MB/s eta 0:00:02\n",
      "     ---------------------------              11.0/15.8 MB 2.5 MB/s eta 0:00:02\n",
      "     ---------------------------              11.0/15.8 MB 2.5 MB/s eta 0:00:02\n",
      "     ---------------------------              11.0/15.8 MB 2.5 MB/s eta 0:00:02\n",
      "     ---------------------------              11.0/15.8 MB 2.5 MB/s eta 0:00:02\n",
      "     ----------------------------             11.1/15.8 MB 2.1 MB/s eta 0:00:03\n",
      "     -----------------------------            11.6/15.8 MB 2.1 MB/s eta 0:00:02\n",
      "     ------------------------------           12.0/15.8 MB 2.1 MB/s eta 0:00:02\n",
      "     -------------------------------          12.4/15.8 MB 2.5 MB/s eta 0:00:02\n",
      "     --------------------------------         12.8/15.8 MB 2.5 MB/s eta 0:00:02\n",
      "     --------------------------------         12.8/15.8 MB 2.5 MB/s eta 0:00:02\n",
      "     --------------------------------         12.8/15.8 MB 2.5 MB/s eta 0:00:02\n",
      "     --------------------------------         12.8/15.8 MB 2.5 MB/s eta 0:00:02\n",
      "     --------------------------------         12.8/15.8 MB 2.5 MB/s eta 0:00:02\n",
      "     --------------------------------         12.8/15.8 MB 2.5 MB/s eta 0:00:02\n",
      "     --------------------------------         12.8/15.8 MB 2.5 MB/s eta 0:00:02\n",
      "     --------------------------------         12.8/15.8 MB 2.5 MB/s eta 0:00:02\n",
      "     --------------------------------         12.8/15.8 MB 2.5 MB/s eta 0:00:02\n",
      "     --------------------------------         12.8/15.8 MB 2.5 MB/s eta 0:00:02\n",
      "     --------------------------------         12.8/15.8 MB 2.5 MB/s eta 0:00:02\n",
      "     --------------------------------         12.8/15.8 MB 2.5 MB/s eta 0:00:02\n",
      "     --------------------------------         12.8/15.8 MB 2.5 MB/s eta 0:00:02\n",
      "     --------------------------------         12.8/15.8 MB 2.5 MB/s eta 0:00:02\n",
      "     --------------------------------         13.0/15.8 MB 2.1 MB/s eta 0:00:02\n",
      "     ----------------------------------       13.5/15.8 MB 2.1 MB/s eta 0:00:02\n",
      "     -----------------------------------      13.9/15.8 MB 2.5 MB/s eta 0:00:01\n",
      "     ------------------------------------     14.4/15.8 MB 2.5 MB/s eta 0:00:01\n",
      "     -------------------------------------    14.7/15.8 MB 2.5 MB/s eta 0:00:01\n",
      "     -------------------------------------    14.7/15.8 MB 2.5 MB/s eta 0:00:01\n",
      "     -------------------------------------    14.9/15.8 MB 2.4 MB/s eta 0:00:01\n",
      "     --------------------------------------   15.4/15.8 MB 2.4 MB/s eta 0:00:01\n",
      "     ---------------------------------------  15.8/15.8 MB 2.8 MB/s eta 0:00:01\n",
      "     ---------------------------------------  15.8/15.8 MB 2.8 MB/s eta 0:00:01\n",
      "     ---------------------------------------  15.8/15.8 MB 2.8 MB/s eta 0:00:01\n",
      "     ---------------------------------------  15.8/15.8 MB 2.8 MB/s eta 0:00:01\n",
      "     ---------------------------------------- 15.8/15.8 MB 2.7 MB/s eta 0:00:00\n",
      "Requirement already satisfied: python-dateutil>=2.8.2 in c:\\python311\\lib\\site-packages (from pandas) (2.8.2)\n",
      "Collecting pytz>=2020.1 (from pandas)\n",
      "  Downloading pytz-2024.1-py2.py3-none-any.whl (505 kB)\n",
      "                                              0.0/505.5 kB ? eta -:--:--\n",
      "     -----------------------------------   481.3/505.5 kB 15.2 MB/s eta 0:00:01\n",
      "     ------------------------------------- 505.5/505.5 kB 10.5 MB/s eta 0:00:00\n",
      "Collecting tzdata>=2022.7 (from pandas)\n",
      "  Downloading tzdata-2024.1-py2.py3-none-any.whl (345 kB)\n",
      "                                              0.0/345.4 kB ? eta -:--:--\n",
      "     ------------------------------------- 345.4/345.4 kB 10.8 MB/s eta 0:00:00\n",
      "Requirement already satisfied: six>=1.5 in c:\\python311\\lib\\site-packages (from python-dateutil>=2.8.2->pandas) (1.16.0)\n",
      "Installing collected packages: pytz, tzdata, numpy, pandas\n",
      "Successfully installed numpy-1.26.4 pandas-2.2.0 pytz-2024.1 tzdata-2024.1\n"
     ]
    },
    {
     "name": "stderr",
     "output_type": "stream",
     "text": [
      "\n",
      "[notice] A new release of pip is available: 23.1.2 -> 24.0\n",
      "[notice] To update, run: python.exe -m pip install --upgrade pip\n"
     ]
    }
   ],
   "source": [
    "pip install pandas"
   ]
  },
  {
   "cell_type": "code",
   "execution_count": 1,
   "metadata": {},
   "outputs": [],
   "source": [
    "tupla = tuple('string')\n"
   ]
  },
  {
   "cell_type": "code",
   "execution_count": 2,
   "metadata": {},
   "outputs": [
    {
     "data": {
      "text/plain": [
       "('s', 't', 'r', 'i', 'n', 'g')"
      ]
     },
     "execution_count": 2,
     "metadata": {},
     "output_type": "execute_result"
    }
   ],
   "source": [
    "tupla"
   ]
  },
  {
   "cell_type": "code",
   "execution_count": 6,
   "metadata": {},
   "outputs": [
    {
     "data": {
      "text/plain": [
       "('foo', [1, 2], True)"
      ]
     },
     "execution_count": 6,
     "metadata": {},
     "output_type": "execute_result"
    }
   ],
   "source": [
    "tuplaa = tuple(['foo', [1, 2], True])\n",
    "tuplaa"
   ]
  },
  {
   "cell_type": "code",
   "execution_count": 8,
   "metadata": {},
   "outputs": [],
   "source": [
    "tuplaa[1].append(2)"
   ]
  },
  {
   "cell_type": "code",
   "execution_count": 9,
   "metadata": {},
   "outputs": [
    {
     "data": {
      "text/plain": [
       "('foo', [1, 2, 2], True)"
      ]
     },
     "execution_count": 9,
     "metadata": {},
     "output_type": "execute_result"
    }
   ],
   "source": [
    "tuplaa"
   ]
  },
  {
   "cell_type": "code",
   "execution_count": 10,
   "metadata": {},
   "outputs": [
    {
     "data": {
      "text/plain": [
       "('hoje', 'foo', [1, 2], True)"
      ]
     },
     "execution_count": 10,
     "metadata": {},
     "output_type": "execute_result"
    }
   ],
   "source": [
    "tuplaa = tuple(['foo',[1, 2], True])\n",
    "lista = list(tuplaa)\n",
    "lista.insert(0,'hoje')\n",
    "nova_tupla= tuple(lista)\n",
    "nova_tupla"
   ]
  },
  {
   "cell_type": "code",
   "execution_count": 12,
   "metadata": {},
   "outputs": [
    {
     "data": {
      "text/plain": [
       "('foo', 'hoje', [1, 2], True)"
      ]
     },
     "execution_count": 12,
     "metadata": {},
     "output_type": "execute_result"
    }
   ],
   "source": [
    "tupla = tuple(['foo',[1, 2], True])\n",
    "lista = list(tupla)\n",
    "posicao_insercao = lista.index('foo') + 1\n",
    "lista.insert(posicao_insercao,'hoje')\n",
    "nova_tupla = tuple(lista)\n",
    "nova_tupla\n"
   ]
  },
  {
   "attachments": {},
   "cell_type": "markdown",
   "metadata": {},
   "source": [
    "#concatena"
   ]
  },
  {
   "cell_type": "code",
   "execution_count": 15,
   "metadata": {},
   "outputs": [
    {
     "data": {
      "text/plain": [
       "(4, None, 'foo', 6, 0, 'bar', 1)"
      ]
     },
     "execution_count": 15,
     "metadata": {},
     "output_type": "execute_result"
    }
   ],
   "source": [
    "(4, None, 'foo') + (6, 0) + ('bar', 1)\n",
    "\n"
   ]
  },
  {
   "cell_type": "code",
   "execution_count": 16,
   "metadata": {},
   "outputs": [
    {
     "data": {
      "text/plain": [
       "('foo', 'bar', 'foo', 'bar', 'foo', 'bar', 'foo', 'bar')"
      ]
     },
     "execution_count": 16,
     "metadata": {},
     "output_type": "execute_result"
    }
   ],
   "source": [
    "('foo', 'bar') * 4"
   ]
  },
  {
   "cell_type": "code",
   "execution_count": 17,
   "metadata": {},
   "outputs": [
    {
     "data": {
      "text/plain": [
       "(4, 8, 12, 3, 6, 9)"
      ]
     },
     "execution_count": 17,
     "metadata": {},
     "output_type": "execute_result"
    }
   ],
   "source": [
    "(4, 8, 12) + (3, 6, 9)"
   ]
  },
  {
   "cell_type": "code",
   "execution_count": 18,
   "metadata": {},
   "outputs": [
    {
     "name": "stdout",
     "output_type": "stream",
     "text": [
      "8\n",
      "16\n",
      "24\n"
     ]
    }
   ],
   "source": [
    "tupla = (4, 8, 12)\n",
    "for numero in tupla:\n",
    "    novo_numero = numero*2\n",
    "    print(novo_numero)"
   ]
  },
  {
   "cell_type": "code",
   "execution_count": 20,
   "metadata": {},
   "outputs": [
    {
     "data": {
      "text/plain": [
       "(8, 16, 24)"
      ]
     },
     "execution_count": 20,
     "metadata": {},
     "output_type": "execute_result"
    }
   ],
   "source": [
    "tupla = (4, 8, 12)\n",
    "nova_tupla = []\n",
    "for numero in tupla:\n",
    "    novo_numero= numero*2\n",
    "    nova_tupla.append(novo_numero)\n",
    "nova_tupla=tuple(nova_tupla)\n",
    "nova_tupla"
   ]
  },
  {
   "cell_type": "code",
   "execution_count": 23,
   "metadata": {},
   "outputs": [
    {
     "data": {
      "text/plain": [
       "5"
      ]
     },
     "execution_count": 23,
     "metadata": {},
     "output_type": "execute_result"
    }
   ],
   "source": [
    "tupla = (4, 5, 6)\n",
    "a,b,c = tupla\n",
    "tupla = 4, 5, (6, 7)\n",
    "a, b, (c, d) = tupla\n",
    "b"
   ]
  },
  {
   "cell_type": "code",
   "execution_count": 24,
   "metadata": {},
   "outputs": [
    {
     "name": "stdout",
     "output_type": "stream",
     "text": [
      "antes da troca\n",
      "a = 10\n",
      "b = 5\n",
      "depois da troca\n",
      "a= 5\n",
      "b= 10\n"
     ]
    }
   ],
   "source": [
    "a = 10\n",
    "b = 5\n",
    "\n",
    "print('antes da troca')\n",
    "print('a =',a)\n",
    "print('b =', b)\n",
    "\n",
    "temp = a\n",
    "a = b\n",
    "b = temp\n",
    "\n",
    "print('depois da troca')\n",
    "print('a=', a)\n",
    "print('b=', b)"
   ]
  },
  {
   "attachments": {},
   "cell_type": "markdown",
   "metadata": {},
   "source": [
    "#ex 1 \n"
   ]
  },
  {
   "cell_type": "code",
   "execution_count": 38,
   "metadata": {},
   "outputs": [
    {
     "data": {
      "text/plain": [
       "('maçã', 'banana', 'laranja', 'uva')"
      ]
     },
     "execution_count": 38,
     "metadata": {},
     "output_type": "execute_result"
    }
   ],
   "source": [
    "frutas = ('maçã', 'banana', 'laranja', 'uva')\n",
    "frutas"
   ]
  },
  {
   "attachments": {},
   "cell_type": "markdown",
   "metadata": {},
   "source": [
    "#ex 2 \n"
   ]
  },
  {
   "cell_type": "code",
   "execution_count": 39,
   "metadata": {},
   "outputs": [
    {
     "data": {
      "text/plain": [
       "'banana'"
      ]
     },
     "execution_count": 39,
     "metadata": {},
     "output_type": "execute_result"
    }
   ],
   "source": [
    "frutas[1]"
   ]
  },
  {
   "attachments": {},
   "cell_type": "markdown",
   "metadata": {},
   "source": [
    "#ex3\n"
   ]
  },
  {
   "cell_type": "code",
   "execution_count": 40,
   "metadata": {},
   "outputs": [
    {
     "data": {
      "text/plain": [
       "['maçã', 'banana', 'manga', 'uva']"
      ]
     },
     "execution_count": 40,
     "metadata": {},
     "output_type": "execute_result"
    }
   ],
   "source": [
    "frutas_modificadas = list(frutas)\n",
    "\n",
    "frutas_modificadas[2] = 'manga'\n",
    "frutas_modificadas = frutas_modificadas\n",
    "frutas_modificadas"
   ]
  },
  {
   "cell_type": "code",
   "execution_count": 44,
   "metadata": {},
   "outputs": [
    {
     "data": {
      "text/plain": [
       "['maçã', 'banana', 'manga', 'uva']"
      ]
     },
     "execution_count": 44,
     "metadata": {},
     "output_type": "execute_result"
    }
   ],
   "source": [
    "frutas_modificadas"
   ]
  },
  {
   "attachments": {},
   "cell_type": "markdown",
   "metadata": {},
   "source": [
    "#ex4"
   ]
  },
  {
   "cell_type": "code",
   "execution_count": 48,
   "metadata": {},
   "outputs": [
    {
     "data": {
      "text/plain": [
       "('abacaxi', 'limão', 'maçã', 'banana', 'manga', 'uva')"
      ]
     },
     "execution_count": 48,
     "metadata": {},
     "output_type": "execute_result"
    }
   ],
   "source": [
    "frutas_nova = ['abacaxi', 'limão']\n",
    "frutas_concatenadas = frutas_nova + frutas_modificadas\n",
    "tuple(frutas_concatenadas)"
   ]
  },
  {
   "attachments": {},
   "cell_type": "markdown",
   "metadata": {},
   "source": [
    "#ex5"
   ]
  },
  {
   "cell_type": "code",
   "execution_count": 50,
   "metadata": {},
   "outputs": [
    {
     "name": "stdout",
     "output_type": "stream",
     "text": [
      "sim\n"
     ]
    }
   ],
   "source": [
    "if 'uva' in frutas_concatenadas:\n",
    "    print('sim')\n",
    "else:\n",
    "    print('não esta')\n"
   ]
  },
  {
   "attachments": {},
   "cell_type": "markdown",
   "metadata": {},
   "source": [
    "#ex6"
   ]
  },
  {
   "cell_type": "code",
   "execution_count": 57,
   "metadata": {},
   "outputs": [
    {
     "data": {
      "text/plain": [
       "3"
      ]
     },
     "execution_count": 57,
     "metadata": {},
     "output_type": "execute_result"
    }
   ],
   "source": [
    "indice = frutas_concatenadas.index('banana')\n",
    "indice"
   ]
  },
  {
   "attachments": {},
   "cell_type": "markdown",
   "metadata": {},
   "source": [
    "#ex7"
   ]
  },
  {
   "cell_type": "code",
   "execution_count": 52,
   "metadata": {},
   "outputs": [
    {
     "data": {
      "text/plain": [
       "1"
      ]
     },
     "execution_count": 52,
     "metadata": {},
     "output_type": "execute_result"
    }
   ],
   "source": [
    "algo = frutas_concatenadas.count(\"uva\")\n",
    "algo"
   ]
  },
  {
   "attachments": {},
   "cell_type": "markdown",
   "metadata": {},
   "source": [
    "#ex8"
   ]
  },
  {
   "cell_type": "code",
   "execution_count": 53,
   "metadata": {},
   "outputs": [],
   "source": [
    "numeros = (1, 2, 3, 4, 5)"
   ]
  },
  {
   "attachments": {},
   "cell_type": "markdown",
   "metadata": {},
   "source": [
    "#ex9"
   ]
  },
  {
   "cell_type": "code",
   "execution_count": 61,
   "metadata": {},
   "outputs": [
    {
     "data": {
      "text/plain": [
       "(2, 4, 6, 8, 10)"
      ]
     },
     "execution_count": 61,
     "metadata": {},
     "output_type": "execute_result"
    }
   ],
   "source": [
    "\n",
    "numeros_dobrados = []\n",
    "for numero in numeros:\n",
    "    novo_numero= numero*2\n",
    "    numeros_dobrados.append(novo_numero)\n",
    "numeros_dobrados=tuple(numeros_dobrados)\n",
    "numeros_dobrados"
   ]
  }
 ],
 "metadata": {
  "kernelspec": {
   "display_name": "Python 3",
   "language": "python",
   "name": "python3"
  },
  "language_info": {
   "codemirror_mode": {
    "name": "ipython",
    "version": 3
   },
   "file_extension": ".py",
   "mimetype": "text/x-python",
   "name": "python",
   "nbconvert_exporter": "python",
   "pygments_lexer": "ipython3",
   "version": "3.11.4"
  },
  "orig_nbformat": 4
 },
 "nbformat": 4,
 "nbformat_minor": 2
}
