{
 "cells": [
  {
   "cell_type": "code",
   "execution_count": 1,
   "metadata": {},
   "outputs": [
    {
     "name": "stdout",
     "output_type": "stream",
     "text": [
      "Requirement already satisfied: pandas in c:\\users\\azazm\\appdata\\local\\programs\\python\\python311\\lib\\site-packages (2.0.3)\n",
      "Requirement already satisfied: python-dateutil>=2.8.2 in c:\\users\\azazm\\appdata\\roaming\\python\\python311\\site-packages (from pandas) (2.8.2)\n",
      "Requirement already satisfied: pytz>=2020.1 in c:\\users\\azazm\\appdata\\local\\programs\\python\\python311\\lib\\site-packages (from pandas) (2023.3)\n",
      "Requirement already satisfied: tzdata>=2022.1 in c:\\users\\azazm\\appdata\\local\\programs\\python\\python311\\lib\\site-packages (from pandas) (2023.3)\n",
      "Requirement already satisfied: numpy>=1.21.0 in c:\\users\\azazm\\appdata\\local\\programs\\python\\python311\\lib\\site-packages (from pandas) (1.25.2)\n",
      "Requirement already satisfied: six>=1.5 in c:\\users\\azazm\\appdata\\roaming\\python\\python311\\site-packages (from python-dateutil>=2.8.2->pandas) (1.16.0)\n",
      "Note: you may need to restart the kernel to use updated packages.\n"
     ]
    },
    {
     "name": "stderr",
     "output_type": "stream",
     "text": [
      "\n",
      "[notice] A new release of pip is available: 23.2.1 -> 24.0\n",
      "[notice] To update, run: python.exe -m pip install --upgrade pip\n"
     ]
    }
   ],
   "source": [
    "pip install pandas "
   ]
  },
  {
   "cell_type": "code",
   "execution_count": null,
   "metadata": {},
   "outputs": [],
   "source": [
    "notas_funcionario1 = [8,7,6,-2,9]\n",
    "notas_funcionario2 = [6,5,7,8,7]\n",
    "\n"
   ]
  },
  {
   "cell_type": "code",
   "execution_count": 24,
   "metadata": {},
   "outputs": [
    {
     "name": "stdout",
     "output_type": "stream",
     "text": [
      "Categoria: Acessórios\n",
      "{'nome': 'Meia', 'categoria': 'Acessórios', 'preço': 9.99}\n",
      "{'nome': 'Boné', 'categoria': 'Acessórios', 'preço': 19.99}\n",
      "Categoria: Calçados\n",
      "{'nome': 'Camiseta', 'categoria': 'Calçados', 'preço': 29.99}\n",
      "{'nome': 'Tênis', 'categoria': 'Calçados', 'preço': 99.99}\n",
      "Categoria: Roupas\n",
      "{'nome': 'Calça', 'categoria': 'Roupas', 'preço': 49.99}\n",
      "categoria\n",
      "Acessórios    14.99\n",
      "Calçados      64.99\n",
      "Roupas        49.99\n",
      "Name: preço, dtype: float64\n"
     ]
    }
   ],
   "source": [
    "from itertools import groupby\n",
    "import pandas as pd\n",
    "\n",
    "pecas1={'nome': 'Camiseta', 'categoria': 'Calçados', 'preço': 29.99}\n",
    "pecas2={'nome': 'Calça', 'categoria': 'Roupas', 'preço': 49.99}\n",
    "pecas3={'nome': 'Tênis', 'categoria': 'Calçados', 'preço': 99.99}\n",
    "pecas4={'nome': 'Meia', 'categoria': 'Acessórios', 'preço': 9.99}\n",
    "pecas5={'nome': 'Boné', 'categoria': 'Acessórios', 'preço': 19.99}\n",
    "\n",
    "produtos = [pecas1,pecas2,pecas3,pecas4,pecas5]\n",
    "\n",
    "juncao = lambda x: x[\"categoria\"]    \n",
    "\n",
    "resultado = groupby(sorted(produtos, key=juncao), juncao)\n",
    "\n",
    "for key, group in resultado:\n",
    "    print(f\"Categoria: {key}\")\n",
    "    for value in group:\n",
    "        print(f\"{value}\")  \n",
    "\n",
    "media_roupas = []\n",
    "media_calçados = []\n",
    "media_acessórios = []\n",
    "\n",
    "for i in range(len(produtos)):\n",
    "    if produtos[i][\"categoria\"] == \"Roupas\":\n",
    "        media_roupas.append(produtos[i][\"preço\"])\n",
    "    elif produtos[i][\"categoria\"] == \"Calçados\":\n",
    "        media_calçados.append(produtos[i][\"preço\"])  \n",
    "    elif produtos[i][\"categoria\"] == \"Acessórios\":\n",
    "        media_acessórios.append(produtos[i][\"preço\"])  \n",
    "\n",
    "\n",
    "df = pd.DataFrame(produtos)\n",
    "media_categoria = df.groupby('categoria')['preço'].mean()\n",
    "\n",
    "print(media_categoria)"
   ]
  },
  {
   "cell_type": "markdown",
   "metadata": {},
   "source": [
    "Categoria: Acessórios\n",
    "{'nome': 'Meia', 'categoria': 'Acessórios', 'preço': 9.99}\n",
    "{'nome': 'Boné', 'categoria': 'Acessórios', 'preço': 19.99}\n",
    "Categoria: Calçados\n",
    "{'nome': 'Camiseta', 'categoria': 'Calçados', 'preço': 29.99}\n",
    "{'nome': 'Tênis', 'categoria': 'Calçados', 'preço': 99.99}\n",
    "Categoria: Roupas\n",
    "{'nome': 'Calça', 'categoria': 'Roupas', 'preço': 49.99}\n",
    "Média de preços das roupas: 49.99\n",
    "Média de preços das calçados: 64.99\n",
    "Média de preços das acessórios: 14.989999999999998"
   ]
  },
  {
   "cell_type": "code",
   "execution_count": 25,
   "metadata": {},
   "outputs": [
    {
     "name": "stdout",
     "output_type": "stream",
     "text": [
      "No dia 1:, Vendas: 10, Reposições: 5, Estoque atual: 95\n",
      "No dia 2:, Vendas: 15, Reposições: 7, Estoque atual: 87\n",
      "No dia 3:, Vendas: 8, Reposições: 6, Estoque atual: 85\n",
      "No dia 4:, Vendas: 12, Reposições: 5, Estoque atual: 78\n",
      "Estoque final: 78\n"
     ]
    }
   ],
   "source": [
    "def simular_estoque(vendas, reposicoes, estoque_inicial):\n",
    "    estoque_real = estoque_inicial\n",
    "    for dia, venda, reposicao in zip(range(1, len(vendas) + 1), vendas, reposicoes):\n",
    "        estoque_real -= venda\n",
    "        estoque_real += reposicao\n",
    "        print(f\"No dia {dia}:, Vendas: {venda}, Reposições: {reposicao}, Estoque atual: {estoque_real}\")\n",
    "    return estoque_real\n",
    "\n",
    "vendas = [10,15,8,12]  \n",
    "reposicoes = [5,7,6,5]  \n",
    "estoque_inicial = 100  \n",
    "estoque_final = simular_estoque(vendas, reposicoes, estoque_inicial)\n",
    "print(f\"Estoque final: {estoque_final}\")"
   ]
  },
  {
   "cell_type": "code",
   "execution_count": 18,
   "metadata": {},
   "outputs": [
    {
     "name": "stdout",
     "output_type": "stream",
     "text": [
      "categoria\n",
      "Acessórios    14.99\n",
      "Calçados      99.99\n",
      "Roupas        39.99\n",
      "Name: preco, dtype: float64\n"
     ]
    }
   ],
   "source": [
    "import pandas as pd\n",
    "\n",
    "produtos = [\n",
    "    {'nome': 'Camiseta', 'categoria': 'Roupas', 'preco': 29.99},\n",
    "    {'nome': 'Calça', 'categoria': 'Roupas', 'preco': 49.99},\n",
    "    {'nome': 'Tênis', 'categoria': 'Calçados', 'preco': 99.99},\n",
    "    {'nome': 'Meia', 'categoria': 'Acessórios', 'preco': 9.99},\n",
    "    {'nome': \"Boné\", \"categoria\": \"Acessórios\", \"preco\": 19.99}\n",
    "]\n",
    "\n",
    "df = pd.DataFrame(produtos)\n",
    "media_por_categoria = df.groupby('categoria')['preco'].mean()\n",
    "\n",
    "print(media_por_categoria)\n"
   ]
  },
  {
   "cell_type": "code",
   "execution_count": 9,
   "metadata": {},
   "outputs": [
    {
     "data": {
      "text/html": [
       "<div>\n",
       "<style scoped>\n",
       "    .dataframe tbody tr th:only-of-type {\n",
       "        vertical-align: middle;\n",
       "    }\n",
       "\n",
       "    .dataframe tbody tr th {\n",
       "        vertical-align: top;\n",
       "    }\n",
       "\n",
       "    .dataframe thead th {\n",
       "        text-align: right;\n",
       "    }\n",
       "</style>\n",
       "<table border=\"1\" class=\"dataframe\">\n",
       "  <thead>\n",
       "    <tr style=\"text-align: right;\">\n",
       "      <th></th>\n",
       "      <th>a</th>\n",
       "      <th>b</th>\n",
       "    </tr>\n",
       "  </thead>\n",
       "  <tbody>\n",
       "    <tr>\n",
       "      <th>0</th>\n",
       "      <td>8</td>\n",
       "      <td>6.0</td>\n",
       "    </tr>\n",
       "    <tr>\n",
       "      <th>1</th>\n",
       "      <td>7</td>\n",
       "      <td>5.5</td>\n",
       "    </tr>\n",
       "    <tr>\n",
       "      <th>2</th>\n",
       "      <td>6</td>\n",
       "      <td>7.0</td>\n",
       "    </tr>\n",
       "    <tr>\n",
       "      <th>3</th>\n",
       "      <td>2</td>\n",
       "      <td>8.3</td>\n",
       "    </tr>\n",
       "    <tr>\n",
       "      <th>4</th>\n",
       "      <td>9</td>\n",
       "      <td>7.0</td>\n",
       "    </tr>\n",
       "  </tbody>\n",
       "</table>\n",
       "</div>"
      ],
      "text/plain": [
       "   a    b\n",
       "0  8  6.0\n",
       "1  7  5.5\n",
       "2  6  7.0\n",
       "3  2  8.3\n",
       "4  9  7.0"
      ]
     },
     "execution_count": 9,
     "metadata": {},
     "output_type": "execute_result"
    }
   ],
   "source": [
    "\n",
    "notas_funcionario1 = [8, 7, 6, -2, 9]\n",
    "notas_funcionario2 = [6, 5.5, 7, 8.3, 7]\n",
    "\n",
    "df = {\n",
    "    'a': [8, 7, 6, 2, 9],\n",
    "    'b':[6, 5.5, 7, 8.3, 7]\n",
    "}\n",
    "\n",
    "df = pd.DataFrame(df)\n",
    "df"
   ]
  },
  {
   "cell_type": "code",
   "execution_count": 8,
   "metadata": {},
   "outputs": [
    {
     "name": "stdout",
     "output_type": "stream",
     "text": [
      "Média do funcionário 1: 6.4\n",
      "Média do funcionário 2: 6.76\n"
     ]
    }
   ],
   "source": [
    "import pandas as pd \n",
    "\n",
    "\n",
    "def calcular_media(notas): \n",
    "    notas_validas = list(filter(lambda nota: nota >= 0, notas))\n",
    "    media = sum(notas_validas) / len(notas_validas) if notas_validas else 0\n",
    "    return media\n",
    "\n",
    "media1 = calcular_media(notas_funcionario1)\n",
    "media2 = calcular_media(notas_funcionario2)\n",
    "\n",
    "print(f'Média do funcionário 1: {media1}')\n",
    "print(f'Média do funcionário 2: {media2}')\n"
   ]
  },
  {
   "cell_type": "code",
   "execution_count": 11,
   "metadata": {},
   "outputs": [
    {
     "name": "stdout",
     "output_type": "stream",
     "text": [
      "Média do funcionário 1:  7.5\n",
      "Média do funcionário 2:  6.6\n"
     ]
    }
   ],
   "source": [
    "notas_funcionario1 = [8,7,6,-2,9]\n",
    "notas_funcionario2 = [6,5,7,8,7]\n",
    "def calcular_media_funcionario():\n",
    "    notas_validas1 = list(filter(lambda x:( x > 0),notas_funcionario1)) # no enunciado ele pede para filtrar a nota negativa, por isso eu usei o x>0, pq toda nota menor que 0 ele desconsidera \n",
    "    notas_validas2 = list(filter(lambda x:(x > 0),notas_funcionario2))\n",
    "    media_funcionario1 = sum(notas_validas1)/len(notas_validas1)\n",
    "    media_funcionario2 = sum(notas_validas2)/len(notas_validas2)\n",
    "    print(\"Média do funcionário 1: \", media_funcionario1)\n",
    "    print(\"Média do funcionário 2: \", media_funcionario2)\n",
    " \n",
    "calcular_media_funcionario()"
   ]
  },
  {
   "cell_type": "code",
   "execution_count": 10,
   "metadata": {},
   "outputs": [
    {
     "data": {
      "text/html": [
       "<div>\n",
       "<style scoped>\n",
       "    .dataframe tbody tr th:only-of-type {\n",
       "        vertical-align: middle;\n",
       "    }\n",
       "\n",
       "    .dataframe tbody tr th {\n",
       "        vertical-align: top;\n",
       "    }\n",
       "\n",
       "    .dataframe thead th {\n",
       "        text-align: right;\n",
       "    }\n",
       "</style>\n",
       "<table border=\"1\" class=\"dataframe\">\n",
       "  <thead>\n",
       "    <tr style=\"text-align: right;\">\n",
       "      <th></th>\n",
       "      <th>Texto</th>\n",
       "      <th>Contagem</th>\n",
       "    </tr>\n",
       "  </thead>\n",
       "  <tbody>\n",
       "    <tr>\n",
       "      <th>0</th>\n",
       "      <td>O texto está agradável para passear e curtir</td>\n",
       "      <td>44</td>\n",
       "    </tr>\n",
       "    <tr>\n",
       "      <th>1</th>\n",
       "      <td>O parque é um ótimo lugar para curtir</td>\n",
       "      <td>37</td>\n",
       "    </tr>\n",
       "    <tr>\n",
       "      <th>2</th>\n",
       "      <td>As pessoas gostam de passear no parque com o t...</td>\n",
       "      <td>60</td>\n",
       "    </tr>\n",
       "  </tbody>\n",
       "</table>\n",
       "</div>"
      ],
      "text/plain": [
       "                                               Texto  Contagem\n",
       "0       O texto está agradável para passear e curtir        44\n",
       "1              O parque é um ótimo lugar para curtir        37\n",
       "2  As pessoas gostam de passear no parque com o t...        60"
      ]
     },
     "execution_count": 10,
     "metadata": {},
     "output_type": "execute_result"
    }
   ],
   "source": [
    "#3 \n",
    "import pandas as pd \n",
    "df = pd.DataFrame({\n",
    "    'Texto':['O texto está agradável para passear e curtir',\n",
    "            'O parque é um ótimo lugar para curtir',\n",
    "            'As pessoas gostam de passear no parque com o tempo agradável']\n",
    "})\n",
    "\n",
    "def soma(dftexto):\n",
    "    dftexto['Contagem'] = dftexto['Texto'].apply(lambda texto:len(texto))\n",
    "    return dftexto\n",
    "\n",
    "soma(df)\n"
   ]
  },
  {
   "cell_type": "code",
   "execution_count": 12,
   "metadata": {},
   "outputs": [
    {
     "name": "stdout",
     "output_type": "stream",
     "text": [
      "Média Salarios:5575.0 . Média alguel 1550.0. Média fornecedores 2150.0.\n"
     ]
    }
   ],
   "source": [
    "# 5\n",
    "contas = {'Salarios':[5000, 5500, 6000, 5800],\n",
    "            'Aluguel': [1500, 1500, 1600, 1600],\n",
    "            'Fornecedores': [2000, 2200, 2300, 2100]}\n",
    "\n",
    "df_contas = pd.DataFrame(contas)\n",
    "\n",
    "media_salarios = df_contas['Salarios'].apply(lambda x: x).mean()\n",
    "media_aluguel = df_contas['Aluguel'].apply(lambda x: x).mean()\n",
    "media_fornecedores = df_contas['Fornecedores'].apply(lambda x: x).mean()\n",
    "\n",
    "print(f'Média Salarios:{media_salarios} . Média alguel {media_aluguel}. Média fornecedores {media_fornecedores}.')"
   ]
  },
  {
   "cell_type": "code",
   "execution_count": 9,
   "metadata": {},
   "outputs": [
    {
     "name": "stdout",
     "output_type": "stream",
     "text": [
      "Raiz x1: 2.0\n",
      "Raiz x2: 1.0\n"
     ]
    }
   ],
   "source": [
    "# 6\n",
    "import pandas as pd \n",
    "def calcular_raizes_quadradicas(a,b,c):\n",
    "    discriminante = b**2 - 4 * a * c\n",
    "    discr_calcu = discriminante\n",
    "\n",
    "    calcular_x1_x2 = lambda a, b, c: (\n",
    "        (-b + discr_calcu ** 0.5) / (2*a),\n",
    "        (-b - discr_calcu ** 0.5) / (2*a)\n",
    "    )\n",
    "\n",
    "    return calcular_x1_x2(a,b,c)\n",
    "\n",
    "raizes = calcular_raizes_quadradicas(1, -3, 2)\n",
    "print(\"Raiz x1:\", raizes[0])\n",
    "print(\"Raiz x2:\", raizes[1])"
   ]
  },
  {
   "cell_type": "code",
   "execution_count": 6,
   "metadata": {},
   "outputs": [
    {
     "ename": "TypeError",
     "evalue": "unsupported operand type(s) for /: 'tuple' and 'int'",
     "output_type": "error",
     "traceback": [
      "\u001b[1;31m---------------------------------------------------------------------------\u001b[0m",
      "\u001b[1;31mTypeError\u001b[0m                                 Traceback (most recent call last)",
      "Cell \u001b[1;32mIn[6], line 11\u001b[0m\n\u001b[0;32m      5\u001b[0m     calcular_x1_x2 \u001b[38;5;241m=\u001b[39m \u001b[38;5;28;01mlambda\u001b[39;00m a, b, c: (\n\u001b[0;32m      6\u001b[0m         (\u001b[38;5;241m-\u001b[39mb \u001b[38;5;241m+\u001b[39m discriminante\u001b[38;5;241m*\u001b[39m\u001b[38;5;241m*\u001b[39m\u001b[38;5;241m0\u001b[39m,\u001b[38;5;241m5\u001b[39m) \u001b[38;5;241m/\u001b[39m (\u001b[38;5;241m2\u001b[39m\u001b[38;5;241m*\u001b[39ma),\n\u001b[0;32m      7\u001b[0m         (\u001b[38;5;241m-\u001b[39mb \u001b[38;5;241m-\u001b[39m discriminante\u001b[38;5;241m*\u001b[39m\u001b[38;5;241m*\u001b[39m\u001b[38;5;241m0\u001b[39m,\u001b[38;5;241m5\u001b[39m) \u001b[38;5;241m/\u001b[39m (\u001b[38;5;241m2\u001b[39m\u001b[38;5;241m*\u001b[39ma)\n\u001b[0;32m      8\u001b[0m     )\n\u001b[0;32m      9\u001b[0m     \u001b[38;5;28;01mreturn\u001b[39;00m calcular_x1_x2(a,b,c)\n\u001b[1;32m---> 11\u001b[0m raizes \u001b[38;5;241m=\u001b[39m \u001b[43mcalular_raizes_quadraticas\u001b[49m\u001b[43m(\u001b[49m\u001b[38;5;241;43m1\u001b[39;49m\u001b[43m,\u001b[49m\u001b[38;5;241;43m-\u001b[39;49m\u001b[38;5;241;43m3\u001b[39;49m\u001b[43m,\u001b[49m\u001b[38;5;241;43m2\u001b[39;49m\u001b[43m)\u001b[49m\n\u001b[0;32m     12\u001b[0m \u001b[38;5;28mprint\u001b[39m(\u001b[38;5;124m'\u001b[39m\u001b[38;5;124mRaiz x1:\u001b[39m\u001b[38;5;124m'\u001b[39m, raizes[\u001b[38;5;241m0\u001b[39m])\n\u001b[0;32m     13\u001b[0m \u001b[38;5;28mprint\u001b[39m(\u001b[38;5;124m'\u001b[39m\u001b[38;5;124mRaiz x2:\u001b[39m\u001b[38;5;124m'\u001b[39m, raizes[\u001b[38;5;241m1\u001b[39m])\n",
      "Cell \u001b[1;32mIn[6], line 9\u001b[0m, in \u001b[0;36mcalular_raizes_quadraticas\u001b[1;34m(a, b, c)\u001b[0m\n\u001b[0;32m      3\u001b[0m discriminante \u001b[38;5;241m=\u001b[39m b\u001b[38;5;241m*\u001b[39m\u001b[38;5;241m*\u001b[39m\u001b[38;5;241m2\u001b[39m \u001b[38;5;241m-\u001b[39m \u001b[38;5;241m4\u001b[39m\u001b[38;5;241m*\u001b[39ma\u001b[38;5;241m*\u001b[39mc\n\u001b[0;32m      5\u001b[0m calcular_x1_x2 \u001b[38;5;241m=\u001b[39m \u001b[38;5;28;01mlambda\u001b[39;00m a, b, c: (\n\u001b[0;32m      6\u001b[0m     (\u001b[38;5;241m-\u001b[39mb \u001b[38;5;241m+\u001b[39m discriminante\u001b[38;5;241m*\u001b[39m\u001b[38;5;241m*\u001b[39m\u001b[38;5;241m0\u001b[39m,\u001b[38;5;241m5\u001b[39m) \u001b[38;5;241m/\u001b[39m (\u001b[38;5;241m2\u001b[39m\u001b[38;5;241m*\u001b[39ma),\n\u001b[0;32m      7\u001b[0m     (\u001b[38;5;241m-\u001b[39mb \u001b[38;5;241m-\u001b[39m discriminante\u001b[38;5;241m*\u001b[39m\u001b[38;5;241m*\u001b[39m\u001b[38;5;241m0\u001b[39m,\u001b[38;5;241m5\u001b[39m) \u001b[38;5;241m/\u001b[39m (\u001b[38;5;241m2\u001b[39m\u001b[38;5;241m*\u001b[39ma)\n\u001b[0;32m      8\u001b[0m )\n\u001b[1;32m----> 9\u001b[0m \u001b[38;5;28;01mreturn\u001b[39;00m \u001b[43mcalcular_x1_x2\u001b[49m\u001b[43m(\u001b[49m\u001b[43ma\u001b[49m\u001b[43m,\u001b[49m\u001b[43mb\u001b[49m\u001b[43m,\u001b[49m\u001b[43mc\u001b[49m\u001b[43m)\u001b[49m\n",
      "Cell \u001b[1;32mIn[6], line 6\u001b[0m, in \u001b[0;36mcalular_raizes_quadraticas.<locals>.<lambda>\u001b[1;34m(a, b, c)\u001b[0m\n\u001b[0;32m      2\u001b[0m \u001b[38;5;28;01mdef\u001b[39;00m \u001b[38;5;21mcalular_raizes_quadraticas\u001b[39m(a,b,c):\n\u001b[0;32m      3\u001b[0m     discriminante \u001b[38;5;241m=\u001b[39m b\u001b[38;5;241m*\u001b[39m\u001b[38;5;241m*\u001b[39m\u001b[38;5;241m2\u001b[39m \u001b[38;5;241m-\u001b[39m \u001b[38;5;241m4\u001b[39m\u001b[38;5;241m*\u001b[39ma\u001b[38;5;241m*\u001b[39mc\n\u001b[0;32m      5\u001b[0m     calcular_x1_x2 \u001b[38;5;241m=\u001b[39m \u001b[38;5;28;01mlambda\u001b[39;00m a, b, c: (\n\u001b[1;32m----> 6\u001b[0m         \u001b[43m(\u001b[49m\u001b[38;5;241;43m-\u001b[39;49m\u001b[43mb\u001b[49m\u001b[43m \u001b[49m\u001b[38;5;241;43m+\u001b[39;49m\u001b[43m \u001b[49m\u001b[43mdiscriminante\u001b[49m\u001b[38;5;241;43m*\u001b[39;49m\u001b[38;5;241;43m*\u001b[39;49m\u001b[38;5;241;43m0\u001b[39;49m\u001b[43m,\u001b[49m\u001b[38;5;241;43m5\u001b[39;49m\u001b[43m)\u001b[49m\u001b[43m \u001b[49m\u001b[38;5;241;43m/\u001b[39;49m\u001b[43m \u001b[49m\u001b[43m(\u001b[49m\u001b[38;5;241;43m2\u001b[39;49m\u001b[38;5;241;43m*\u001b[39;49m\u001b[43ma\u001b[49m\u001b[43m)\u001b[49m,\n\u001b[0;32m      7\u001b[0m         (\u001b[38;5;241m-\u001b[39mb \u001b[38;5;241m-\u001b[39m discriminante\u001b[38;5;241m*\u001b[39m\u001b[38;5;241m*\u001b[39m\u001b[38;5;241m0\u001b[39m,\u001b[38;5;241m5\u001b[39m) \u001b[38;5;241m/\u001b[39m (\u001b[38;5;241m2\u001b[39m\u001b[38;5;241m*\u001b[39ma)\n\u001b[0;32m      8\u001b[0m     )\n\u001b[0;32m      9\u001b[0m     \u001b[38;5;28;01mreturn\u001b[39;00m calcular_x1_x2(a,b,c)\n",
      "\u001b[1;31mTypeError\u001b[0m: unsupported operand type(s) for /: 'tuple' and 'int'"
     ]
    }
   ],
   "source": [
    "#6\n",
    "def calular_raizes_quadraticas(a,b,c):\n",
    "    discriminante = b**2 - 4*a*c\n",
    "\n",
    "    calcular_x1_x2 = lambda a, b, c: (\n",
    "        (-b + discriminante**0,5) / (2*a),\n",
    "        (-b - discriminante**0,5) / (2*a)\n",
    "    )\n",
    "    return calcular_x1_x2(a,b,c)\n",
    "\n",
    "raizes = calular_raizes_quadraticas(1,-3,2)\n",
    "print('Raiz x1:', raizes[0])\n",
    "print('Raiz x2:', raizes[1])"
   ]
  },
  {
   "cell_type": "code",
   "execution_count": 5,
   "metadata": {},
   "outputs": [
    {
     "ename": "IndexError",
     "evalue": "list index out of range",
     "output_type": "error",
     "traceback": [
      "\u001b[1;31m---------------------------------------------------------------------------\u001b[0m",
      "\u001b[1;31mIndexError\u001b[0m                                Traceback (most recent call last)",
      "Cell \u001b[1;32mIn[5], line 16\u001b[0m\n\u001b[0;32m     13\u001b[0m estoque_inicial \u001b[38;5;241m=\u001b[39m [\u001b[38;5;241m100\u001b[39m]\n\u001b[0;32m     14\u001b[0m reposicoes \u001b[38;5;241m=\u001b[39m [\u001b[38;5;241m5\u001b[39m, \u001b[38;5;241m7\u001b[39m, \u001b[38;5;241m6\u001b[39m, \u001b[38;5;241m5\u001b[39m]\n\u001b[1;32m---> 16\u001b[0m estoque_final \u001b[38;5;241m=\u001b[39m \u001b[43msimular_estoque\u001b[49m\u001b[43m(\u001b[49m\u001b[43mvendas\u001b[49m\u001b[43m,\u001b[49m\u001b[43m \u001b[49m\u001b[43mestoque_inicial\u001b[49m\u001b[43m,\u001b[49m\u001b[43m \u001b[49m\u001b[43mreposicoes\u001b[49m\u001b[43m)\u001b[49m\n\u001b[0;32m     17\u001b[0m \u001b[38;5;28mprint\u001b[39m(estoque_final)\n",
      "Cell \u001b[1;32mIn[5], line 5\u001b[0m, in \u001b[0;36msimular_estoque\u001b[1;34m(vendas, estoque_inicial, reposicoes)\u001b[0m\n\u001b[0;32m      3\u001b[0m estoque \u001b[38;5;241m=\u001b[39m estoque_inicial\u001b[38;5;241m.\u001b[39mcopy()\n\u001b[0;32m      4\u001b[0m \u001b[38;5;28;01mfor\u001b[39;00m i \u001b[38;5;129;01min\u001b[39;00m \u001b[38;5;28mrange\u001b[39m(\u001b[38;5;28mlen\u001b[39m(vendas)):\n\u001b[1;32m----> 5\u001b[0m     \u001b[43mestoque\u001b[49m\u001b[43m[\u001b[49m\u001b[43mi\u001b[49m\u001b[43m]\u001b[49m \u001b[38;5;241m-\u001b[39m\u001b[38;5;241m=\u001b[39m vendas[i]  \u001b[38;5;66;03m# Subtrai as vendas do estoque\u001b[39;00m\n\u001b[0;32m      6\u001b[0m     estoque[i] \u001b[38;5;241m+\u001b[39m\u001b[38;5;241m=\u001b[39m reposicoes[i]  \u001b[38;5;66;03m# Adiciona as reposições ao estoque\u001b[39;00m\n\u001b[0;32m      7\u001b[0m     \u001b[38;5;66;03m# Aqui você pode adicionar uma função definida pelo usuário para calcular o novo nível de estoque\u001b[39;00m\n\u001b[0;32m      8\u001b[0m     \u001b[38;5;66;03m# Por exemplo: estoque[i] = calcular_novo_estoque(estoque[i])\u001b[39;00m\n",
      "\u001b[1;31mIndexError\u001b[0m: list index out of range"
     ]
    }
   ],
   "source": [
    "# 4 \n",
    "def simular_estoque(vendas, estoque_inicial, reposicoes):\n",
    "    estoque = estoque_inicial.copy()\n",
    "    for i in range(len(vendas)):\n",
    "        estoque[i] -= vendas[i]  # Subtrai as vendas do estoque\n",
    "        estoque[i] += reposicoes[i]  # Adiciona as reposições ao estoque\n",
    "        # Aqui você pode adicionar uma função definida pelo usuário para calcular o novo nível de estoque\n",
    "        # Por exemplo: estoque[i] = calcular_novo_estoque(estoque[i])\n",
    "    return estoque\n",
    "\n",
    "# Exemplo de uso da função:\n",
    "vendas = [10, 15, 8, 12]\n",
    "estoque_inicial = [100]\n",
    "reposicoes = [5, 7, 6, 5]\n",
    "\n",
    "estoque_final = simular_estoque(vendas, estoque_inicial, reposicoes)\n",
    "print(estoque_final)\n"
   ]
  },
  {
   "cell_type": "code",
   "execution_count": 4,
   "metadata": {},
   "outputs": [
    {
     "name": "stdout",
     "output_type": "stream",
     "text": [
      "No dia 1:, Vendas: 10, Reposições: 5, Estoque atual: 95\n",
      "No dia 2:, Vendas: 15, Reposições: 7, Estoque atual: 87\n",
      "No dia 3:, Vendas: 8, Reposições: 6, Estoque atual: 85\n",
      "No dia 4:, Vendas: 12, Reposições: 5, Estoque atual: 78\n",
      "Estoque final: 78\n"
     ]
    }
   ],
   "source": [
    "def simular_estoque(vendas, reposicoes, estoque_inicial):\n",
    "    estoque_real = estoque_inicial\n",
    "    for dia, venda, reposicao in zip(range(1, len(vendas) + 1), vendas, reposicoes):\n",
    "        estoque_real -= venda\n",
    "        estoque_real += reposicao\n",
    "        print(f\"No dia {dia}:, Vendas: {venda}, Reposições: {reposicao}, Estoque atual: {estoque_real}\")\n",
    "    return estoque_real\n",
    "\n",
    "vendas = [10,15, 8, 12]  \n",
    "reposicoes = [5,7, 6, 5]  \n",
    "estoque_inicial = 100  \n",
    "estoque_final = simular_estoque(vendas, reposicoes, estoque_inicial)\n",
    "print(f\"Estoque final: {estoque_final}\")"
   ]
  },
  {
   "cell_type": "code",
   "execution_count": 33,
   "metadata": {},
   "outputs": [
    {
     "name": "stdout",
     "output_type": "stream",
     "text": [
      "Chave: Acessórios\n",
      "- {'nome': 'Meia', 'categoria': 'Acessórios', 'preço': 9.99}\n",
      "- {'nome': 'Boné', 'categoria': 'Acessórios', 'preço': 19.99}\n",
      "Chave: Calçados\n",
      "- {'nome': 'Tênis', 'categoria': 'Calçados', 'preço': 99.99}\n",
      "Chave: Roupas\n",
      "- {'nome': 'Camiseta', 'categoria': 'Roupas', 'preço': 29.99}\n",
      "- {'nome': 'Calça', 'categoria': 'Roupas', 'preço': 49.99}\n"
     ]
    }
   ],
   "source": [
    "from itertools import groupby\n",
    " \n",
    "produto1={'nome': 'Camiseta', 'categoria': 'Roupas', 'preço': 29.99}\n",
    "produto2={'nome': 'Calça', 'categoria': 'Roupas', 'preço': 49.99}\n",
    "produto3={'nome': 'Tênis', 'categoria': 'Calçados', 'preço': 99.99}\n",
    "produto4={'nome': 'Meia', 'categoria': 'Acessórios', 'preço': 9.99}\n",
    "produto5={'nome': 'Boné', 'categoria': 'Acessórios', 'preço': 19.99}\n",
    " \n",
    "produtos = [produto1,produto2,produto3,produto4,produto5]\n",
    " \n",
    "agrupar = lambda x: x[\"categoria\"]    \n",
    " \n",
    "resultado = groupby(sorted(produtos, key=agrupar), agrupar)\n",
    " \n",
    " \n",
    "for key, group in resultado:\n",
    "    print(f\"Chave: {key}\")\n",
    "    for value in group:\n",
    "        print(f\"- {value}\") \n",
    "        \n",
    "  "
   ]
  },
  {
   "cell_type": "code",
   "execution_count": null,
   "metadata": {},
   "outputs": [],
   "source": [
    "#7\n",
    "a) correta\n",
    "b) correta\n",
    "c) Incorreto\n",
    "d) Incorreto\n",
    "e) Correto "
   ]
  }
 ],
 "metadata": {
  "kernelspec": {
   "display_name": "Python 3",
   "language": "python",
   "name": "python3"
  },
  "language_info": {
   "codemirror_mode": {
    "name": "ipython",
    "version": 3
   },
   "file_extension": ".py",
   "mimetype": "text/x-python",
   "name": "python",
   "nbconvert_exporter": "python",
   "pygments_lexer": "ipython3",
   "version": "3.11.5"
  },
  "orig_nbformat": 4
 },
 "nbformat": 4,
 "nbformat_minor": 2
}
